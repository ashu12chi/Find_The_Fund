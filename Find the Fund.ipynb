{
 "cells": [
  {
   "cell_type": "code",
   "execution_count": 1,
   "metadata": {},
   "outputs": [],
   "source": [
    "import pandas as pd"
   ]
  },
  {
   "cell_type": "markdown",
   "metadata": {},
   "source": [
    "### Load dataset in df variable using pandas library"
   ]
  },
  {
   "cell_type": "code",
   "execution_count": 2,
   "metadata": {},
   "outputs": [
    {
     "name": "stderr",
     "output_type": "stream",
     "text": [
      "C:\\Users\\ASHUTOSH CHITRANSHI\\Anaconda3\\lib\\site-packages\\IPython\\core\\interactiveshell.py:3049: DtypeWarning: Columns (10,11,14,16,17,20,21) have mixed types. Specify dtype option on import or set low_memory=False.\n",
      "  interactivity=interactivity, compiler=compiler, result=result)\n"
     ]
    }
   ],
   "source": [
    "df = pd.read_csv('train.csv')"
   ]
  },
  {
   "cell_type": "code",
   "execution_count": 3,
   "metadata": {},
   "outputs": [
    {
     "data": {
      "text/plain": [
       "Index(['ID', 'comp_name', 'website', 'op_status', 'domain', 'founded_on',\n",
       "       'hq_country_code', 'hq_state_code', 'hq_region', 'hq_city',\n",
       "       'total_funding_usd', 'funding_rounds', 'first_funding_date',\n",
       "       'last_funding_date', 'num_investors', 'funding_duration',\n",
       "       'first_funding_utc', 'last_funding_utc', 'successful_investment',\n",
       "       'Unnamed: 19', 'Unnamed: 20', 'Unnamed: 21', 'Unnamed: 22',\n",
       "       'Unnamed: 23', 'Unnamed: 24', 'Unnamed: 25', 'Unnamed: 26'],\n",
       "      dtype='object')"
      ]
     },
     "execution_count": 3,
     "metadata": {},
     "output_type": "execute_result"
    }
   ],
   "source": [
    "df.columns"
   ]
  },
  {
   "cell_type": "markdown",
   "metadata": {},
   "source": [
    " #### Info will help us to determine the data type of different columns, total number of features, total number of rows in our dataset"
   ]
  },
  {
   "cell_type": "code",
   "execution_count": 4,
   "metadata": {},
   "outputs": [
    {
     "name": "stdout",
     "output_type": "stream",
     "text": [
      "<class 'pandas.core.frame.DataFrame'>\n",
      "RangeIndex: 40213 entries, 0 to 40212\n",
      "Data columns (total 27 columns):\n",
      "ID                       40213 non-null int64\n",
      "comp_name                40213 non-null object\n",
      "website                  37746 non-null object\n",
      "op_status                40213 non-null object\n",
      "domain                   38007 non-null object\n",
      "founded_on               29999 non-null object\n",
      "hq_country_code          35699 non-null object\n",
      "hq_state_code            34623 non-null object\n",
      "hq_region                34965 non-null object\n",
      "hq_city                  34967 non-null object\n",
      "total_funding_usd        32549 non-null object\n",
      "funding_rounds           40212 non-null object\n",
      "first_funding_date       40213 non-null object\n",
      "last_funding_date        40213 non-null object\n",
      "num_investors            40213 non-null object\n",
      "funding_duration         40213 non-null int64\n",
      "first_funding_utc        40213 non-null object\n",
      "last_funding_utc         40213 non-null object\n",
      "successful_investment    40213 non-null int64\n",
      "Unnamed: 19              3 non-null float64\n",
      "Unnamed: 20              1 non-null object\n",
      "Unnamed: 21              1 non-null object\n",
      "Unnamed: 22              1 non-null float64\n",
      "Unnamed: 23              1 non-null float64\n",
      "Unnamed: 24              1 non-null float64\n",
      "Unnamed: 25              1 non-null float64\n",
      "Unnamed: 26              1 non-null float64\n",
      "dtypes: float64(6), int64(3), object(18)\n",
      "memory usage: 8.3+ MB\n"
     ]
    }
   ],
   "source": [
    "df.info()"
   ]
  },
  {
   "cell_type": "markdown",
   "metadata": {},
   "source": [
    "#### We observe that there are few unnamed useless columns which we need to drop"
   ]
  },
  {
   "cell_type": "code",
   "execution_count": 6,
   "metadata": {},
   "outputs": [],
   "source": [
    "df = df.iloc[:,:19]"
   ]
  },
  {
   "cell_type": "code",
   "execution_count": 7,
   "metadata": {},
   "outputs": [
    {
     "data": {
      "text/html": [
       "<div>\n",
       "<style scoped>\n",
       "    .dataframe tbody tr th:only-of-type {\n",
       "        vertical-align: middle;\n",
       "    }\n",
       "\n",
       "    .dataframe tbody tr th {\n",
       "        vertical-align: top;\n",
       "    }\n",
       "\n",
       "    .dataframe thead th {\n",
       "        text-align: right;\n",
       "    }\n",
       "</style>\n",
       "<table border=\"1\" class=\"dataframe\">\n",
       "  <thead>\n",
       "    <tr style=\"text-align: right;\">\n",
       "      <th></th>\n",
       "      <th>ID</th>\n",
       "      <th>comp_name</th>\n",
       "      <th>website</th>\n",
       "      <th>op_status</th>\n",
       "      <th>domain</th>\n",
       "      <th>founded_on</th>\n",
       "      <th>hq_country_code</th>\n",
       "      <th>hq_state_code</th>\n",
       "      <th>hq_region</th>\n",
       "      <th>hq_city</th>\n",
       "      <th>total_funding_usd</th>\n",
       "      <th>funding_rounds</th>\n",
       "      <th>first_funding_date</th>\n",
       "      <th>last_funding_date</th>\n",
       "      <th>num_investors</th>\n",
       "      <th>funding_duration</th>\n",
       "      <th>first_funding_utc</th>\n",
       "      <th>last_funding_utc</th>\n",
       "      <th>successful_investment</th>\n",
       "    </tr>\n",
       "  </thead>\n",
       "  <tbody>\n",
       "    <tr>\n",
       "      <th>0</th>\n",
       "      <td>0</td>\n",
       "      <td>Nanotecture</td>\n",
       "      <td>http://www.nanotecture.co.uk</td>\n",
       "      <td>closed</td>\n",
       "      <td>Nanotechnology</td>\n",
       "      <td>NaN</td>\n",
       "      <td>GBR</td>\n",
       "      <td>M4</td>\n",
       "      <td>London</td>\n",
       "      <td>Southampton</td>\n",
       "      <td>6820000</td>\n",
       "      <td>1</td>\n",
       "      <td>2005-05-04</td>\n",
       "      <td>2005-05-04</td>\n",
       "      <td>4</td>\n",
       "      <td>0</td>\n",
       "      <td>12907</td>\n",
       "      <td>12907</td>\n",
       "      <td>0</td>\n",
       "    </tr>\n",
       "    <tr>\n",
       "      <th>1</th>\n",
       "      <td>1</td>\n",
       "      <td>Sybari</td>\n",
       "      <td>http://www.sybari.com</td>\n",
       "      <td>acquired</td>\n",
       "      <td>Email|Security|Software</td>\n",
       "      <td>1995-01-01</td>\n",
       "      <td>USA</td>\n",
       "      <td>NY</td>\n",
       "      <td>Long Island</td>\n",
       "      <td>East Northport</td>\n",
       "      <td>NaN</td>\n",
       "      <td>1</td>\n",
       "      <td>2001-03-30</td>\n",
       "      <td>2001-03-30</td>\n",
       "      <td>1</td>\n",
       "      <td>0</td>\n",
       "      <td>11411</td>\n",
       "      <td>11411</td>\n",
       "      <td>1</td>\n",
       "    </tr>\n",
       "    <tr>\n",
       "      <th>2</th>\n",
       "      <td>2</td>\n",
       "      <td>Futurederm</td>\n",
       "      <td>http://www.futurederm.com</td>\n",
       "      <td>operating</td>\n",
       "      <td>Beauty|Cosmetics|E-Commerce|Social Media</td>\n",
       "      <td>2009-06-07</td>\n",
       "      <td>USA</td>\n",
       "      <td>PA</td>\n",
       "      <td>Pittsburgh</td>\n",
       "      <td>Pittsburgh</td>\n",
       "      <td>165778</td>\n",
       "      <td>5</td>\n",
       "      <td>2012-10-25</td>\n",
       "      <td>2014-05-27</td>\n",
       "      <td>4</td>\n",
       "      <td>579</td>\n",
       "      <td>15638</td>\n",
       "      <td>16217</td>\n",
       "      <td>0</td>\n",
       "    </tr>\n",
       "    <tr>\n",
       "      <th>3</th>\n",
       "      <td>3</td>\n",
       "      <td>Mercora</td>\n",
       "      <td>http://mercora.com</td>\n",
       "      <td>closed</td>\n",
       "      <td>Curated Web</td>\n",
       "      <td>NaN</td>\n",
       "      <td>USA</td>\n",
       "      <td>CA</td>\n",
       "      <td>SF Bay Area</td>\n",
       "      <td>Sunnyvale</td>\n",
       "      <td>5000000</td>\n",
       "      <td>1</td>\n",
       "      <td>2005-01-01</td>\n",
       "      <td>2005-01-01</td>\n",
       "      <td>1</td>\n",
       "      <td>0</td>\n",
       "      <td>12784</td>\n",
       "      <td>12784</td>\n",
       "      <td>0</td>\n",
       "    </tr>\n",
       "    <tr>\n",
       "      <th>4</th>\n",
       "      <td>4</td>\n",
       "      <td>Datos IO</td>\n",
       "      <td>http://www.datos.io</td>\n",
       "      <td>operating</td>\n",
       "      <td>Big Data|Cloud Computing|Databases|Enterprise ...</td>\n",
       "      <td>2014-06-01</td>\n",
       "      <td>USA</td>\n",
       "      <td>CA</td>\n",
       "      <td>SF Bay Area</td>\n",
       "      <td>San Jose</td>\n",
       "      <td>15250000</td>\n",
       "      <td>2</td>\n",
       "      <td>2014-07-01</td>\n",
       "      <td>2015-09-15</td>\n",
       "      <td>4</td>\n",
       "      <td>441</td>\n",
       "      <td>16252</td>\n",
       "      <td>16693</td>\n",
       "      <td>0</td>\n",
       "    </tr>\n",
       "  </tbody>\n",
       "</table>\n",
       "</div>"
      ],
      "text/plain": [
       "   ID    comp_name                       website  op_status  \\\n",
       "0   0  Nanotecture  http://www.nanotecture.co.uk     closed   \n",
       "1   1       Sybari         http://www.sybari.com   acquired   \n",
       "2   2   Futurederm     http://www.futurederm.com  operating   \n",
       "3   3      Mercora            http://mercora.com     closed   \n",
       "4   4     Datos IO           http://www.datos.io  operating   \n",
       "\n",
       "                                              domain  founded_on  \\\n",
       "0                                     Nanotechnology         NaN   \n",
       "1                            Email|Security|Software  1995-01-01   \n",
       "2           Beauty|Cosmetics|E-Commerce|Social Media  2009-06-07   \n",
       "3                                        Curated Web         NaN   \n",
       "4  Big Data|Cloud Computing|Databases|Enterprise ...  2014-06-01   \n",
       "\n",
       "  hq_country_code hq_state_code    hq_region         hq_city  \\\n",
       "0             GBR            M4       London     Southampton   \n",
       "1             USA            NY  Long Island  East Northport   \n",
       "2             USA            PA   Pittsburgh      Pittsburgh   \n",
       "3             USA            CA  SF Bay Area       Sunnyvale   \n",
       "4             USA            CA  SF Bay Area        San Jose   \n",
       "\n",
       "  total_funding_usd funding_rounds first_funding_date last_funding_date  \\\n",
       "0           6820000              1         2005-05-04        2005-05-04   \n",
       "1               NaN              1         2001-03-30        2001-03-30   \n",
       "2            165778              5         2012-10-25        2014-05-27   \n",
       "3           5000000              1         2005-01-01        2005-01-01   \n",
       "4          15250000              2         2014-07-01        2015-09-15   \n",
       "\n",
       "  num_investors  funding_duration first_funding_utc last_funding_utc  \\\n",
       "0             4                 0             12907            12907   \n",
       "1             1                 0             11411            11411   \n",
       "2             4               579             15638            16217   \n",
       "3             1                 0             12784            12784   \n",
       "4             4               441             16252            16693   \n",
       "\n",
       "   successful_investment  \n",
       "0                      0  \n",
       "1                      1  \n",
       "2                      0  \n",
       "3                      0  \n",
       "4                      0  "
      ]
     },
     "execution_count": 7,
     "metadata": {},
     "output_type": "execute_result"
    }
   ],
   "source": [
    "df.head()"
   ]
  },
  {
   "cell_type": "markdown",
   "metadata": {},
   "source": [
    "#### describe will help us to determine about the scaling and range of our dataset"
   ]
  },
  {
   "cell_type": "code",
   "execution_count": 8,
   "metadata": {},
   "outputs": [
    {
     "data": {
      "text/html": [
       "<div>\n",
       "<style scoped>\n",
       "    .dataframe tbody tr th:only-of-type {\n",
       "        vertical-align: middle;\n",
       "    }\n",
       "\n",
       "    .dataframe tbody tr th {\n",
       "        vertical-align: top;\n",
       "    }\n",
       "\n",
       "    .dataframe thead th {\n",
       "        text-align: right;\n",
       "    }\n",
       "</style>\n",
       "<table border=\"1\" class=\"dataframe\">\n",
       "  <thead>\n",
       "    <tr style=\"text-align: right;\">\n",
       "      <th></th>\n",
       "      <th>ID</th>\n",
       "      <th>funding_duration</th>\n",
       "      <th>successful_investment</th>\n",
       "    </tr>\n",
       "  </thead>\n",
       "  <tbody>\n",
       "    <tr>\n",
       "      <th>count</th>\n",
       "      <td>40213.000000</td>\n",
       "      <td>40213.000000</td>\n",
       "      <td>4.021300e+04</td>\n",
       "    </tr>\n",
       "    <tr>\n",
       "      <th>mean</th>\n",
       "      <td>20106.000000</td>\n",
       "      <td>436.388133</td>\n",
       "      <td>9.224409e+02</td>\n",
       "    </tr>\n",
       "    <tr>\n",
       "      <th>std</th>\n",
       "      <td>11608.637524</td>\n",
       "      <td>779.468602</td>\n",
       "      <td>1.848059e+05</td>\n",
       "    </tr>\n",
       "    <tr>\n",
       "      <th>min</th>\n",
       "      <td>0.000000</td>\n",
       "      <td>0.000000</td>\n",
       "      <td>0.000000e+00</td>\n",
       "    </tr>\n",
       "    <tr>\n",
       "      <th>25%</th>\n",
       "      <td>10053.000000</td>\n",
       "      <td>0.000000</td>\n",
       "      <td>0.000000e+00</td>\n",
       "    </tr>\n",
       "    <tr>\n",
       "      <th>50%</th>\n",
       "      <td>20106.000000</td>\n",
       "      <td>0.000000</td>\n",
       "      <td>0.000000e+00</td>\n",
       "    </tr>\n",
       "    <tr>\n",
       "      <th>75%</th>\n",
       "      <td>30159.000000</td>\n",
       "      <td>615.000000</td>\n",
       "      <td>0.000000e+00</td>\n",
       "    </tr>\n",
       "    <tr>\n",
       "      <th>max</th>\n",
       "      <td>40212.000000</td>\n",
       "      <td>36994.000000</td>\n",
       "      <td>3.705945e+07</td>\n",
       "    </tr>\n",
       "  </tbody>\n",
       "</table>\n",
       "</div>"
      ],
      "text/plain": [
       "                 ID  funding_duration  successful_investment\n",
       "count  40213.000000      40213.000000           4.021300e+04\n",
       "mean   20106.000000        436.388133           9.224409e+02\n",
       "std    11608.637524        779.468602           1.848059e+05\n",
       "min        0.000000          0.000000           0.000000e+00\n",
       "25%    10053.000000          0.000000           0.000000e+00\n",
       "50%    20106.000000          0.000000           0.000000e+00\n",
       "75%    30159.000000        615.000000           0.000000e+00\n",
       "max    40212.000000      36994.000000           3.705945e+07"
      ]
     },
     "execution_count": 8,
     "metadata": {},
     "output_type": "execute_result"
    }
   ],
   "source": [
    "df.describe()"
   ]
  },
  {
   "cell_type": "markdown",
   "metadata": {},
   "source": [
    "### Count of null values"
   ]
  },
  {
   "cell_type": "code",
   "execution_count": 9,
   "metadata": {},
   "outputs": [
    {
     "data": {
      "text/plain": [
       "ID                           0\n",
       "comp_name                    0\n",
       "website                   2467\n",
       "op_status                    0\n",
       "domain                    2206\n",
       "founded_on               10214\n",
       "hq_country_code           4514\n",
       "hq_state_code             5590\n",
       "hq_region                 5248\n",
       "hq_city                   5246\n",
       "total_funding_usd         7664\n",
       "funding_rounds               1\n",
       "first_funding_date           0\n",
       "last_funding_date            0\n",
       "num_investors                0\n",
       "funding_duration             0\n",
       "first_funding_utc            0\n",
       "last_funding_utc             0\n",
       "successful_investment        0\n",
       "dtype: int64"
      ]
     },
     "execution_count": 9,
     "metadata": {},
     "output_type": "execute_result"
    }
   ],
   "source": [
    "df.isnull().sum()"
   ]
  },
  {
   "cell_type": "markdown",
   "metadata": {},
   "source": [
    "### Dropping few columns by simple reasoning"
   ]
  },
  {
   "cell_type": "markdown",
   "metadata": {},
   "source": [
    "Clearly we have three columns which will surely not going to make any impact on prediction of sucessful investment. These columns are:-\n",
    "1. ID\n",
    "2. comp_name\n",
    "3. website"
   ]
  },
  {
   "cell_type": "markdown",
   "metadata": {},
   "source": [
    "So, we are going to drop these directly for furter smooth working on finding relationship between different features. "
   ]
  },
  {
   "cell_type": "code",
   "execution_count": 10,
   "metadata": {},
   "outputs": [],
   "source": [
    "df=df.drop('ID',axis=1)"
   ]
  },
  {
   "cell_type": "code",
   "execution_count": 11,
   "metadata": {},
   "outputs": [],
   "source": [
    "df=df.drop('comp_name',axis=1)"
   ]
  },
  {
   "cell_type": "code",
   "execution_count": 12,
   "metadata": {},
   "outputs": [],
   "source": [
    "df=df.drop('website',axis=1)"
   ]
  },
  {
   "cell_type": "code",
   "execution_count": 13,
   "metadata": {},
   "outputs": [
    {
     "data": {
      "text/html": [
       "<div>\n",
       "<style scoped>\n",
       "    .dataframe tbody tr th:only-of-type {\n",
       "        vertical-align: middle;\n",
       "    }\n",
       "\n",
       "    .dataframe tbody tr th {\n",
       "        vertical-align: top;\n",
       "    }\n",
       "\n",
       "    .dataframe thead th {\n",
       "        text-align: right;\n",
       "    }\n",
       "</style>\n",
       "<table border=\"1\" class=\"dataframe\">\n",
       "  <thead>\n",
       "    <tr style=\"text-align: right;\">\n",
       "      <th></th>\n",
       "      <th>op_status</th>\n",
       "      <th>domain</th>\n",
       "      <th>founded_on</th>\n",
       "      <th>hq_country_code</th>\n",
       "      <th>hq_state_code</th>\n",
       "      <th>hq_region</th>\n",
       "      <th>hq_city</th>\n",
       "      <th>total_funding_usd</th>\n",
       "      <th>funding_rounds</th>\n",
       "      <th>first_funding_date</th>\n",
       "      <th>last_funding_date</th>\n",
       "      <th>num_investors</th>\n",
       "      <th>funding_duration</th>\n",
       "      <th>first_funding_utc</th>\n",
       "      <th>last_funding_utc</th>\n",
       "      <th>successful_investment</th>\n",
       "    </tr>\n",
       "  </thead>\n",
       "  <tbody>\n",
       "    <tr>\n",
       "      <th>0</th>\n",
       "      <td>closed</td>\n",
       "      <td>Nanotechnology</td>\n",
       "      <td>NaN</td>\n",
       "      <td>GBR</td>\n",
       "      <td>M4</td>\n",
       "      <td>London</td>\n",
       "      <td>Southampton</td>\n",
       "      <td>6820000</td>\n",
       "      <td>1</td>\n",
       "      <td>2005-05-04</td>\n",
       "      <td>2005-05-04</td>\n",
       "      <td>4</td>\n",
       "      <td>0</td>\n",
       "      <td>12907</td>\n",
       "      <td>12907</td>\n",
       "      <td>0</td>\n",
       "    </tr>\n",
       "    <tr>\n",
       "      <th>1</th>\n",
       "      <td>acquired</td>\n",
       "      <td>Email|Security|Software</td>\n",
       "      <td>1995-01-01</td>\n",
       "      <td>USA</td>\n",
       "      <td>NY</td>\n",
       "      <td>Long Island</td>\n",
       "      <td>East Northport</td>\n",
       "      <td>NaN</td>\n",
       "      <td>1</td>\n",
       "      <td>2001-03-30</td>\n",
       "      <td>2001-03-30</td>\n",
       "      <td>1</td>\n",
       "      <td>0</td>\n",
       "      <td>11411</td>\n",
       "      <td>11411</td>\n",
       "      <td>1</td>\n",
       "    </tr>\n",
       "    <tr>\n",
       "      <th>2</th>\n",
       "      <td>operating</td>\n",
       "      <td>Beauty|Cosmetics|E-Commerce|Social Media</td>\n",
       "      <td>2009-06-07</td>\n",
       "      <td>USA</td>\n",
       "      <td>PA</td>\n",
       "      <td>Pittsburgh</td>\n",
       "      <td>Pittsburgh</td>\n",
       "      <td>165778</td>\n",
       "      <td>5</td>\n",
       "      <td>2012-10-25</td>\n",
       "      <td>2014-05-27</td>\n",
       "      <td>4</td>\n",
       "      <td>579</td>\n",
       "      <td>15638</td>\n",
       "      <td>16217</td>\n",
       "      <td>0</td>\n",
       "    </tr>\n",
       "    <tr>\n",
       "      <th>3</th>\n",
       "      <td>closed</td>\n",
       "      <td>Curated Web</td>\n",
       "      <td>NaN</td>\n",
       "      <td>USA</td>\n",
       "      <td>CA</td>\n",
       "      <td>SF Bay Area</td>\n",
       "      <td>Sunnyvale</td>\n",
       "      <td>5000000</td>\n",
       "      <td>1</td>\n",
       "      <td>2005-01-01</td>\n",
       "      <td>2005-01-01</td>\n",
       "      <td>1</td>\n",
       "      <td>0</td>\n",
       "      <td>12784</td>\n",
       "      <td>12784</td>\n",
       "      <td>0</td>\n",
       "    </tr>\n",
       "    <tr>\n",
       "      <th>4</th>\n",
       "      <td>operating</td>\n",
       "      <td>Big Data|Cloud Computing|Databases|Enterprise ...</td>\n",
       "      <td>2014-06-01</td>\n",
       "      <td>USA</td>\n",
       "      <td>CA</td>\n",
       "      <td>SF Bay Area</td>\n",
       "      <td>San Jose</td>\n",
       "      <td>15250000</td>\n",
       "      <td>2</td>\n",
       "      <td>2014-07-01</td>\n",
       "      <td>2015-09-15</td>\n",
       "      <td>4</td>\n",
       "      <td>441</td>\n",
       "      <td>16252</td>\n",
       "      <td>16693</td>\n",
       "      <td>0</td>\n",
       "    </tr>\n",
       "  </tbody>\n",
       "</table>\n",
       "</div>"
      ],
      "text/plain": [
       "   op_status                                             domain  founded_on  \\\n",
       "0     closed                                     Nanotechnology         NaN   \n",
       "1   acquired                            Email|Security|Software  1995-01-01   \n",
       "2  operating           Beauty|Cosmetics|E-Commerce|Social Media  2009-06-07   \n",
       "3     closed                                        Curated Web         NaN   \n",
       "4  operating  Big Data|Cloud Computing|Databases|Enterprise ...  2014-06-01   \n",
       "\n",
       "  hq_country_code hq_state_code    hq_region         hq_city  \\\n",
       "0             GBR            M4       London     Southampton   \n",
       "1             USA            NY  Long Island  East Northport   \n",
       "2             USA            PA   Pittsburgh      Pittsburgh   \n",
       "3             USA            CA  SF Bay Area       Sunnyvale   \n",
       "4             USA            CA  SF Bay Area        San Jose   \n",
       "\n",
       "  total_funding_usd funding_rounds first_funding_date last_funding_date  \\\n",
       "0           6820000              1         2005-05-04        2005-05-04   \n",
       "1               NaN              1         2001-03-30        2001-03-30   \n",
       "2            165778              5         2012-10-25        2014-05-27   \n",
       "3           5000000              1         2005-01-01        2005-01-01   \n",
       "4          15250000              2         2014-07-01        2015-09-15   \n",
       "\n",
       "  num_investors  funding_duration first_funding_utc last_funding_utc  \\\n",
       "0             4                 0             12907            12907   \n",
       "1             1                 0             11411            11411   \n",
       "2             4               579             15638            16217   \n",
       "3             1                 0             12784            12784   \n",
       "4             4               441             16252            16693   \n",
       "\n",
       "   successful_investment  \n",
       "0                      0  \n",
       "1                      1  \n",
       "2                      0  \n",
       "3                      0  \n",
       "4                      0  "
      ]
     },
     "execution_count": 13,
     "metadata": {},
     "output_type": "execute_result"
    }
   ],
   "source": [
    "df.head()"
   ]
  },
  {
   "cell_type": "code",
   "execution_count": 14,
   "metadata": {},
   "outputs": [
    {
     "name": "stdout",
     "output_type": "stream",
     "text": [
      "<class 'pandas.core.frame.DataFrame'>\n",
      "RangeIndex: 40213 entries, 0 to 40212\n",
      "Data columns (total 16 columns):\n",
      "op_status                40213 non-null object\n",
      "domain                   38007 non-null object\n",
      "founded_on               29999 non-null object\n",
      "hq_country_code          35699 non-null object\n",
      "hq_state_code            34623 non-null object\n",
      "hq_region                34965 non-null object\n",
      "hq_city                  34967 non-null object\n",
      "total_funding_usd        32549 non-null object\n",
      "funding_rounds           40212 non-null object\n",
      "first_funding_date       40213 non-null object\n",
      "last_funding_date        40213 non-null object\n",
      "num_investors            40213 non-null object\n",
      "funding_duration         40213 non-null int64\n",
      "first_funding_utc        40213 non-null object\n",
      "last_funding_utc         40213 non-null object\n",
      "successful_investment    40213 non-null int64\n",
      "dtypes: int64(2), object(14)\n",
      "memory usage: 4.9+ MB\n"
     ]
    }
   ],
   "source": [
    "df.info()"
   ]
  },
  {
   "cell_type": "markdown",
   "metadata": {},
   "source": [
    "# Graphs"
   ]
  },
  {
   "cell_type": "markdown",
   "metadata": {},
   "source": [
    "# 1. Scatterplot"
   ]
  },
  {
   "cell_type": "markdown",
   "metadata": {},
   "source": [
    "We will draw scatter plot one by one among different columns to find relationship among themselves"
   ]
  },
  {
   "cell_type": "code",
   "execution_count": 15,
   "metadata": {},
   "outputs": [],
   "source": [
    "import seaborn as sns"
   ]
  },
  {
   "cell_type": "code",
   "execution_count": 16,
   "metadata": {},
   "outputs": [],
   "source": [
    "X=df['first_funding_utc'].astype(str)"
   ]
  },
  {
   "cell_type": "code",
   "execution_count": 17,
   "metadata": {},
   "outputs": [],
   "source": [
    "Y=df['first_funding_date'].astype(str)"
   ]
  },
  {
   "cell_type": "code",
   "execution_count": 18,
   "metadata": {},
   "outputs": [
    {
     "data": {
      "text/plain": [
       "<matplotlib.axes._subplots.AxesSubplot at 0x1f7ecab5908>"
      ]
     },
     "execution_count": 18,
     "metadata": {},
     "output_type": "execute_result"
    },
    {
     "data": {
      "image/png": "[encoded data removed]",
      "text/plain": [
       "<Figure size 432x288 with 1 Axes>"
      ]
     },
     "metadata": {
      "needs_background": "light"
     },
     "output_type": "display_data"
    }
   ],
   "source": [
    "sns.scatterplot(X[:100],Y[:100])"
   ]
  },
  {
   "cell_type": "markdown",
   "metadata": {},
   "source": [
    "#### Clearly from above scatter plot we observe that these two columns are directly proportional to each other, just to make sure this, we will draw graph with few more data points"
   ]
  },
  {
   "cell_type": "code",
   "execution_count": 19,
   "metadata": {},
   "outputs": [
    {
     "data": {
      "text/plain": [
       "<matplotlib.axes._subplots.AxesSubplot at 0x1f7ed038b38>"
      ]
     },
     "execution_count": 19,
     "metadata": {},
     "output_type": "execute_result"
    },
    {
     "data": {
      "image/png": "[encoded data removed]",
      "text/plain": [
       "<Figure size 432x288 with 1 Axes>"
      ]
     },
     "metadata": {
      "needs_background": "light"
     },
     "output_type": "display_data"
    }
   ],
   "source": [
    "sns.scatterplot(X[100:1000],Y[100:1000])"
   ]
  },
  {
   "cell_type": "code",
   "execution_count": 20,
   "metadata": {},
   "outputs": [],
   "source": [
    "X=df['last_funding_utc'].astype(str)"
   ]
  },
  {
   "cell_type": "code",
   "execution_count": 21,
   "metadata": {},
   "outputs": [],
   "source": [
    "Y=df['last_funding_date'].astype(str)"
   ]
  },
  {
   "cell_type": "code",
   "execution_count": 22,
   "metadata": {},
   "outputs": [
    {
     "data": {
      "text/plain": [
       "<matplotlib.axes._subplots.AxesSubplot at 0x1f7f003e240>"
      ]
     },
     "execution_count": 22,
     "metadata": {},
     "output_type": "execute_result"
    },
    {
     "data": {
      "image/png": "[encoded data removed]",
      "text/plain": [
       "<Figure size 432x288 with 1 Axes>"
      ]
     },
     "metadata": {
      "needs_background": "light"
     },
     "output_type": "display_data"
    }
   ],
   "source": [
    "sns.scatterplot(X[:100],Y[:100])"
   ]
  },
  {
   "cell_type": "markdown",
   "metadata": {},
   "source": [
    "#### Clearly from above scatter plot we observe that these two columns are directly proportional to each other, just to make sure this, we will draw graph with few more data points"
   ]
  },
  {
   "cell_type": "code",
   "execution_count": 23,
   "metadata": {},
   "outputs": [
    {
     "data": {
      "text/plain": [
       "<matplotlib.axes._subplots.AxesSubplot at 0x1f7f0121be0>"
      ]
     },
     "execution_count": 23,
     "metadata": {},
     "output_type": "execute_result"
    },
    {
     "data": {
      "image/png": "[encoded data removed]",
      "text/plain": [
       "<Figure size 432x288 with 1 Axes>"
      ]
     },
     "metadata": {
      "needs_background": "light"
     },
     "output_type": "display_data"
    }
   ],
   "source": [
    "sns.scatterplot(X[100:1000],Y[100:1000])"
   ]
  },
  {
   "cell_type": "code",
   "execution_count": 24,
   "metadata": {},
   "outputs": [],
   "source": [
    "X=df['last_funding_utc'].astype(str)"
   ]
  },
  {
   "cell_type": "code",
   "execution_count": 25,
   "metadata": {},
   "outputs": [],
   "source": [
    "Y=df['first_funding_utc'].astype(str)"
   ]
  },
  {
   "cell_type": "code",
   "execution_count": 26,
   "metadata": {},
   "outputs": [
    {
     "data": {
      "text/plain": [
       "<matplotlib.axes._subplots.AxesSubplot at 0x1f7f0012710>"
      ]
     },
     "execution_count": 26,
     "metadata": {},
     "output_type": "execute_result"
    },
    {
     "data": {
      "image/png": "[encoded data removed]",
      "text/plain": [
       "<Figure size 432x288 with 1 Axes>"
      ]
     },
     "metadata": {
      "needs_background": "light"
     },
     "output_type": "display_data"
    }
   ],
   "source": [
    "sns.scatterplot(X[:100],Y[:100])"
   ]
  },
  {
   "cell_type": "markdown",
   "metadata": {},
   "source": [
    "#### Clearly from above scatter plot we observe that these two columns are directly proportional to each other with very few outliers, just to make sure this, we will draw graph with few more data points"
   ]
  },
  {
   "cell_type": "code",
   "execution_count": 27,
   "metadata": {},
   "outputs": [
    {
     "data": {
      "text/plain": [
       "<matplotlib.axes._subplots.AxesSubplot at 0x1f7f1fbb6d8>"
      ]
     },
     "execution_count": 27,
     "metadata": {},
     "output_type": "execute_result"
    },
    {
     "data": {
      "image/png": "[encoded data removed]",
      "text/plain": [
       "<Figure size 432x288 with 1 Axes>"
      ]
     },
     "metadata": {
      "needs_background": "light"
     },
     "output_type": "display_data"
    }
   ],
   "source": [
    "sns.scatterplot(X[:1000],Y[:1000])"
   ]
  },
  {
   "cell_type": "markdown",
   "metadata": {},
   "source": [
    "#### Our assumption fails this time,but it works for first two times so we are going to drop following two columns because there impact lies in other columns\n",
    "1. first_funding_date\n",
    "2. last_funding_date"
   ]
  },
  {
   "cell_type": "code",
   "execution_count": 28,
   "metadata": {},
   "outputs": [],
   "source": [
    "df=df.drop('first_funding_date',axis=1)"
   ]
  },
  {
   "cell_type": "code",
   "execution_count": 29,
   "metadata": {},
   "outputs": [],
   "source": [
    "df=df.drop('last_funding_date',axis=1)"
   ]
  },
  {
   "cell_type": "code",
   "execution_count": 30,
   "metadata": {},
   "outputs": [
    {
     "data": {
      "text/html": [
       "<div>\n",
       "<style scoped>\n",
       "    .dataframe tbody tr th:only-of-type {\n",
       "        vertical-align: middle;\n",
       "    }\n",
       "\n",
       "    .dataframe tbody tr th {\n",
       "        vertical-align: top;\n",
       "    }\n",
       "\n",
       "    .dataframe thead th {\n",
       "        text-align: right;\n",
       "    }\n",
       "</style>\n",
       "<table border=\"1\" class=\"dataframe\">\n",
       "  <thead>\n",
       "    <tr style=\"text-align: right;\">\n",
       "      <th></th>\n",
       "      <th>op_status</th>\n",
       "      <th>domain</th>\n",
       "      <th>founded_on</th>\n",
       "      <th>hq_country_code</th>\n",
       "      <th>hq_state_code</th>\n",
       "      <th>hq_region</th>\n",
       "      <th>hq_city</th>\n",
       "      <th>total_funding_usd</th>\n",
       "      <th>funding_rounds</th>\n",
       "      <th>num_investors</th>\n",
       "      <th>funding_duration</th>\n",
       "      <th>first_funding_utc</th>\n",
       "      <th>last_funding_utc</th>\n",
       "      <th>successful_investment</th>\n",
       "    </tr>\n",
       "  </thead>\n",
       "  <tbody>\n",
       "    <tr>\n",
       "      <th>0</th>\n",
       "      <td>closed</td>\n",
       "      <td>Nanotechnology</td>\n",
       "      <td>NaN</td>\n",
       "      <td>GBR</td>\n",
       "      <td>M4</td>\n",
       "      <td>London</td>\n",
       "      <td>Southampton</td>\n",
       "      <td>6820000</td>\n",
       "      <td>1</td>\n",
       "      <td>4</td>\n",
       "      <td>0</td>\n",
       "      <td>12907</td>\n",
       "      <td>12907</td>\n",
       "      <td>0</td>\n",
       "    </tr>\n",
       "    <tr>\n",
       "      <th>1</th>\n",
       "      <td>acquired</td>\n",
       "      <td>Email|Security|Software</td>\n",
       "      <td>1995-01-01</td>\n",
       "      <td>USA</td>\n",
       "      <td>NY</td>\n",
       "      <td>Long Island</td>\n",
       "      <td>East Northport</td>\n",
       "      <td>NaN</td>\n",
       "      <td>1</td>\n",
       "      <td>1</td>\n",
       "      <td>0</td>\n",
       "      <td>11411</td>\n",
       "      <td>11411</td>\n",
       "      <td>1</td>\n",
       "    </tr>\n",
       "    <tr>\n",
       "      <th>2</th>\n",
       "      <td>operating</td>\n",
       "      <td>Beauty|Cosmetics|E-Commerce|Social Media</td>\n",
       "      <td>2009-06-07</td>\n",
       "      <td>USA</td>\n",
       "      <td>PA</td>\n",
       "      <td>Pittsburgh</td>\n",
       "      <td>Pittsburgh</td>\n",
       "      <td>165778</td>\n",
       "      <td>5</td>\n",
       "      <td>4</td>\n",
       "      <td>579</td>\n",
       "      <td>15638</td>\n",
       "      <td>16217</td>\n",
       "      <td>0</td>\n",
       "    </tr>\n",
       "    <tr>\n",
       "      <th>3</th>\n",
       "      <td>closed</td>\n",
       "      <td>Curated Web</td>\n",
       "      <td>NaN</td>\n",
       "      <td>USA</td>\n",
       "      <td>CA</td>\n",
       "      <td>SF Bay Area</td>\n",
       "      <td>Sunnyvale</td>\n",
       "      <td>5000000</td>\n",
       "      <td>1</td>\n",
       "      <td>1</td>\n",
       "      <td>0</td>\n",
       "      <td>12784</td>\n",
       "      <td>12784</td>\n",
       "      <td>0</td>\n",
       "    </tr>\n",
       "    <tr>\n",
       "      <th>4</th>\n",
       "      <td>operating</td>\n",
       "      <td>Big Data|Cloud Computing|Databases|Enterprise ...</td>\n",
       "      <td>2014-06-01</td>\n",
       "      <td>USA</td>\n",
       "      <td>CA</td>\n",
       "      <td>SF Bay Area</td>\n",
       "      <td>San Jose</td>\n",
       "      <td>15250000</td>\n",
       "      <td>2</td>\n",
       "      <td>4</td>\n",
       "      <td>441</td>\n",
       "      <td>16252</td>\n",
       "      <td>16693</td>\n",
       "      <td>0</td>\n",
       "    </tr>\n",
       "  </tbody>\n",
       "</table>\n",
       "</div>"
      ],
      "text/plain": [
       "   op_status                                             domain  founded_on  \\\n",
       "0     closed                                     Nanotechnology         NaN   \n",
       "1   acquired                            Email|Security|Software  1995-01-01   \n",
       "2  operating           Beauty|Cosmetics|E-Commerce|Social Media  2009-06-07   \n",
       "3     closed                                        Curated Web         NaN   \n",
       "4  operating  Big Data|Cloud Computing|Databases|Enterprise ...  2014-06-01   \n",
       "\n",
       "  hq_country_code hq_state_code    hq_region         hq_city  \\\n",
       "0             GBR            M4       London     Southampton   \n",
       "1             USA            NY  Long Island  East Northport   \n",
       "2             USA            PA   Pittsburgh      Pittsburgh   \n",
       "3             USA            CA  SF Bay Area       Sunnyvale   \n",
       "4             USA            CA  SF Bay Area        San Jose   \n",
       "\n",
       "  total_funding_usd funding_rounds num_investors  funding_duration  \\\n",
       "0           6820000              1             4                 0   \n",
       "1               NaN              1             1                 0   \n",
       "2            165778              5             4               579   \n",
       "3           5000000              1             1                 0   \n",
       "4          15250000              2             4               441   \n",
       "\n",
       "  first_funding_utc last_funding_utc  successful_investment  \n",
       "0             12907            12907                      0  \n",
       "1             11411            11411                      1  \n",
       "2             15638            16217                      0  \n",
       "3             12784            12784                      0  \n",
       "4             16252            16693                      0  "
      ]
     },
     "execution_count": 30,
     "metadata": {},
     "output_type": "execute_result"
    }
   ],
   "source": [
    "df.head()"
   ]
  },
  {
   "cell_type": "code",
   "execution_count": 31,
   "metadata": {},
   "outputs": [
    {
     "name": "stdout",
     "output_type": "stream",
     "text": [
      "<class 'pandas.core.frame.DataFrame'>\n",
      "RangeIndex: 40213 entries, 0 to 40212\n",
      "Data columns (total 14 columns):\n",
      "op_status                40213 non-null object\n",
      "domain                   38007 non-null object\n",
      "founded_on               29999 non-null object\n",
      "hq_country_code          35699 non-null object\n",
      "hq_state_code            34623 non-null object\n",
      "hq_region                34965 non-null object\n",
      "hq_city                  34967 non-null object\n",
      "total_funding_usd        32549 non-null object\n",
      "funding_rounds           40212 non-null object\n",
      "num_investors            40213 non-null object\n",
      "funding_duration         40213 non-null int64\n",
      "first_funding_utc        40213 non-null object\n",
      "last_funding_utc         40213 non-null object\n",
      "successful_investment    40213 non-null int64\n",
      "dtypes: int64(2), object(12)\n",
      "memory usage: 4.3+ MB\n"
     ]
    }
   ],
   "source": [
    "df.info()"
   ]
  },
  {
   "cell_type": "markdown",
   "metadata": {},
   "source": [
    "### Before we go for some more data visualisation we need to look our columns having null values and dtype = objects"
   ]
  },
  {
   "cell_type": "markdown",
   "metadata": {},
   "source": [
    "#### 1. op_status"
   ]
  },
  {
   "cell_type": "code",
   "execution_count": 32,
   "metadata": {},
   "outputs": [
    {
     "data": {
      "text/plain": [
       "operating                        31098\n",
       "acquired                          4464\n",
       "closed                            3799\n",
       "ipo                                849\n",
       "http://www.fortodo.com               1\n",
       "http://centers.fortodo.com           1\n",
       " http//www.dreamlines.com.br         1\n",
       "Name: op_status, dtype: int64"
      ]
     },
     "execution_count": 32,
     "metadata": {},
     "output_type": "execute_result"
    }
   ],
   "source": [
    "df['op_status'].value_counts()"
   ]
  },
  {
   "cell_type": "markdown",
   "metadata": {},
   "source": [
    "We need to drop rows having website instead of operational status"
   ]
  },
  {
   "cell_type": "code",
   "execution_count": 33,
   "metadata": {},
   "outputs": [
    {
     "name": "stdout",
     "output_type": "stream",
     "text": [
      "17070\n"
     ]
    }
   ],
   "source": [
    "for key, value in df['op_status'].iteritems(): \n",
    "    if value=='http://www.fortodo.com':\n",
    "        print(key)"
   ]
  },
  {
   "cell_type": "code",
   "execution_count": 34,
   "metadata": {},
   "outputs": [],
   "source": [
    "df=df.drop(17070,axis=0)"
   ]
  },
  {
   "cell_type": "code",
   "execution_count": 35,
   "metadata": {},
   "outputs": [
    {
     "name": "stdout",
     "output_type": "stream",
     "text": [
      "31258\n"
     ]
    }
   ],
   "source": [
    "for key, value in df['op_status'].iteritems(): \n",
    "    if value=='http://centers.fortodo.com':\n",
    "        print(key)"
   ]
  },
  {
   "cell_type": "code",
   "execution_count": 36,
   "metadata": {},
   "outputs": [],
   "source": [
    "df=df.drop(31258,axis=0)"
   ]
  },
  {
   "cell_type": "code",
   "execution_count": 37,
   "metadata": {},
   "outputs": [
    {
     "name": "stdout",
     "output_type": "stream",
     "text": [
      "7652\n"
     ]
    }
   ],
   "source": [
    "for key, value in df['op_status'].iteritems(): \n",
    "    if value.strip()=='http//www.dreamlines.com.br':\n",
    "        print(key)"
   ]
  },
  {
   "cell_type": "code",
   "execution_count": 38,
   "metadata": {},
   "outputs": [],
   "source": [
    "df=df.drop(7652,axis=0)"
   ]
  },
  {
   "cell_type": "markdown",
   "metadata": {},
   "source": [
    "Now, we use labelencoder to change assign int32 values to object type"
   ]
  },
  {
   "cell_type": "code",
   "execution_count": 39,
   "metadata": {},
   "outputs": [],
   "source": [
    "from sklearn.preprocessing import LabelEncoder"
   ]
  },
  {
   "cell_type": "code",
   "execution_count": 40,
   "metadata": {},
   "outputs": [],
   "source": [
    "lb=LabelEncoder()"
   ]
  },
  {
   "cell_type": "code",
   "execution_count": 41,
   "metadata": {},
   "outputs": [],
   "source": [
    "df['op_status']= lb.fit_transform(df['op_status'])"
   ]
  },
  {
   "cell_type": "code",
   "execution_count": 42,
   "metadata": {},
   "outputs": [
    {
     "data": {
      "text/plain": [
       "0    1\n",
       "1    0\n",
       "2    3\n",
       "3    1\n",
       "4    3\n",
       "Name: op_status, dtype: int32"
      ]
     },
     "execution_count": 42,
     "metadata": {},
     "output_type": "execute_result"
    }
   ],
   "source": [
    "df['op_status'].head()"
   ]
  },
  {
   "cell_type": "markdown",
   "metadata": {},
   "source": [
    "#### 2. Drop null values"
   ]
  },
  {
   "cell_type": "code",
   "execution_count": 43,
   "metadata": {},
   "outputs": [],
   "source": [
    "df=df.dropna()"
   ]
  },
  {
   "cell_type": "code",
   "execution_count": 44,
   "metadata": {},
   "outputs": [
    {
     "data": {
      "text/html": [
       "<div>\n",
       "<style scoped>\n",
       "    .dataframe tbody tr th:only-of-type {\n",
       "        vertical-align: middle;\n",
       "    }\n",
       "\n",
       "    .dataframe tbody tr th {\n",
       "        vertical-align: top;\n",
       "    }\n",
       "\n",
       "    .dataframe thead th {\n",
       "        text-align: right;\n",
       "    }\n",
       "</style>\n",
       "<table border=\"1\" class=\"dataframe\">\n",
       "  <thead>\n",
       "    <tr style=\"text-align: right;\">\n",
       "      <th></th>\n",
       "      <th>op_status</th>\n",
       "      <th>domain</th>\n",
       "      <th>founded_on</th>\n",
       "      <th>hq_country_code</th>\n",
       "      <th>hq_state_code</th>\n",
       "      <th>hq_region</th>\n",
       "      <th>hq_city</th>\n",
       "      <th>total_funding_usd</th>\n",
       "      <th>funding_rounds</th>\n",
       "      <th>num_investors</th>\n",
       "      <th>funding_duration</th>\n",
       "      <th>first_funding_utc</th>\n",
       "      <th>last_funding_utc</th>\n",
       "      <th>successful_investment</th>\n",
       "    </tr>\n",
       "  </thead>\n",
       "  <tbody>\n",
       "    <tr>\n",
       "      <th>2</th>\n",
       "      <td>3</td>\n",
       "      <td>Beauty|Cosmetics|E-Commerce|Social Media</td>\n",
       "      <td>2009-06-07</td>\n",
       "      <td>USA</td>\n",
       "      <td>PA</td>\n",
       "      <td>Pittsburgh</td>\n",
       "      <td>Pittsburgh</td>\n",
       "      <td>165778</td>\n",
       "      <td>5</td>\n",
       "      <td>4</td>\n",
       "      <td>579</td>\n",
       "      <td>15638</td>\n",
       "      <td>16217</td>\n",
       "      <td>0</td>\n",
       "    </tr>\n",
       "    <tr>\n",
       "      <th>4</th>\n",
       "      <td>3</td>\n",
       "      <td>Big Data|Cloud Computing|Databases|Enterprise ...</td>\n",
       "      <td>2014-06-01</td>\n",
       "      <td>USA</td>\n",
       "      <td>CA</td>\n",
       "      <td>SF Bay Area</td>\n",
       "      <td>San Jose</td>\n",
       "      <td>15250000</td>\n",
       "      <td>2</td>\n",
       "      <td>4</td>\n",
       "      <td>441</td>\n",
       "      <td>16252</td>\n",
       "      <td>16693</td>\n",
       "      <td>0</td>\n",
       "    </tr>\n",
       "    <tr>\n",
       "      <th>5</th>\n",
       "      <td>2</td>\n",
       "      <td>Consumer Goods|Crowdsourcing|Delivery|E-Commer...</td>\n",
       "      <td>1994-07-05</td>\n",
       "      <td>USA</td>\n",
       "      <td>WA</td>\n",
       "      <td>Seattle</td>\n",
       "      <td>Seattle</td>\n",
       "      <td>8000000</td>\n",
       "      <td>1</td>\n",
       "      <td>1</td>\n",
       "      <td>0</td>\n",
       "      <td>9312</td>\n",
       "      <td>9312</td>\n",
       "      <td>1</td>\n",
       "    </tr>\n",
       "    <tr>\n",
       "      <th>7</th>\n",
       "      <td>1</td>\n",
       "      <td>iPhone|Location Based Services|Messaging|Mobil...</td>\n",
       "      <td>2009-07-01</td>\n",
       "      <td>USA</td>\n",
       "      <td>CA</td>\n",
       "      <td>SF Bay Area</td>\n",
       "      <td>San Jose</td>\n",
       "      <td>50000</td>\n",
       "      <td>1</td>\n",
       "      <td>1</td>\n",
       "      <td>0</td>\n",
       "      <td>14706</td>\n",
       "      <td>14706</td>\n",
       "      <td>0</td>\n",
       "    </tr>\n",
       "    <tr>\n",
       "      <th>11</th>\n",
       "      <td>3</td>\n",
       "      <td>Cable|Internet|Web Hosting</td>\n",
       "      <td>2002-01-01</td>\n",
       "      <td>USA</td>\n",
       "      <td>WA</td>\n",
       "      <td>Seattle</td>\n",
       "      <td>Kirkland</td>\n",
       "      <td>1180000000</td>\n",
       "      <td>2</td>\n",
       "      <td>5</td>\n",
       "      <td>918</td>\n",
       "      <td>15658</td>\n",
       "      <td>16576</td>\n",
       "      <td>0</td>\n",
       "    </tr>\n",
       "  </tbody>\n",
       "</table>\n",
       "</div>"
      ],
      "text/plain": [
       "    op_status                                             domain  founded_on  \\\n",
       "2           3           Beauty|Cosmetics|E-Commerce|Social Media  2009-06-07   \n",
       "4           3  Big Data|Cloud Computing|Databases|Enterprise ...  2014-06-01   \n",
       "5           2  Consumer Goods|Crowdsourcing|Delivery|E-Commer...  1994-07-05   \n",
       "7           1  iPhone|Location Based Services|Messaging|Mobil...  2009-07-01   \n",
       "11          3                         Cable|Internet|Web Hosting  2002-01-01   \n",
       "\n",
       "   hq_country_code hq_state_code    hq_region     hq_city total_funding_usd  \\\n",
       "2              USA            PA   Pittsburgh  Pittsburgh            165778   \n",
       "4              USA            CA  SF Bay Area    San Jose          15250000   \n",
       "5              USA            WA      Seattle     Seattle           8000000   \n",
       "7              USA            CA  SF Bay Area    San Jose             50000   \n",
       "11             USA            WA      Seattle    Kirkland        1180000000   \n",
       "\n",
       "   funding_rounds num_investors  funding_duration first_funding_utc  \\\n",
       "2               5             4               579             15638   \n",
       "4               2             4               441             16252   \n",
       "5               1             1                 0              9312   \n",
       "7               1             1                 0             14706   \n",
       "11              2             5               918             15658   \n",
       "\n",
       "   last_funding_utc  successful_investment  \n",
       "2             16217                      0  \n",
       "4             16693                      0  \n",
       "5              9312                      1  \n",
       "7             14706                      0  \n",
       "11            16576                      0  "
      ]
     },
     "execution_count": 44,
     "metadata": {},
     "output_type": "execute_result"
    }
   ],
   "source": [
    "df.head()"
   ]
  },
  {
   "cell_type": "code",
   "execution_count": 45,
   "metadata": {},
   "outputs": [
    {
     "name": "stdout",
     "output_type": "stream",
     "text": [
      "<class 'pandas.core.frame.DataFrame'>\n",
      "Int64Index: 22989 entries, 2 to 40212\n",
      "Data columns (total 14 columns):\n",
      "op_status                22989 non-null int32\n",
      "domain                   22989 non-null object\n",
      "founded_on               22989 non-null object\n",
      "hq_country_code          22989 non-null object\n",
      "hq_state_code            22989 non-null object\n",
      "hq_region                22989 non-null object\n",
      "hq_city                  22989 non-null object\n",
      "total_funding_usd        22989 non-null object\n",
      "funding_rounds           22989 non-null object\n",
      "num_investors            22989 non-null object\n",
      "funding_duration         22989 non-null int64\n",
      "first_funding_utc        22989 non-null object\n",
      "last_funding_utc         22989 non-null object\n",
      "successful_investment    22989 non-null int64\n",
      "dtypes: int32(1), int64(2), object(11)\n",
      "memory usage: 2.5+ MB\n"
     ]
    }
   ],
   "source": [
    "df.info()"
   ]
  },
  {
   "cell_type": "markdown",
   "metadata": {},
   "source": [
    "#### 3. LabelEncoder for categorical columns"
   ]
  },
  {
   "cell_type": "code",
   "execution_count": 46,
   "metadata": {},
   "outputs": [],
   "source": [
    "for column in df.columns:\n",
    "    if df[column].dtype == type(object):\n",
    "        le = LabelEncoder()\n",
    "        df[column] = le.fit_transform(df[column].astype(str))"
   ]
  },
  {
   "cell_type": "code",
   "execution_count": 47,
   "metadata": {},
   "outputs": [
    {
     "data": {
      "text/html": [
       "<div>\n",
       "<style scoped>\n",
       "    .dataframe tbody tr th:only-of-type {\n",
       "        vertical-align: middle;\n",
       "    }\n",
       "\n",
       "    .dataframe tbody tr th {\n",
       "        vertical-align: top;\n",
       "    }\n",
       "\n",
       "    .dataframe thead th {\n",
       "        text-align: right;\n",
       "    }\n",
       "</style>\n",
       "<table border=\"1\" class=\"dataframe\">\n",
       "  <thead>\n",
       "    <tr style=\"text-align: right;\">\n",
       "      <th></th>\n",
       "      <th>op_status</th>\n",
       "      <th>domain</th>\n",
       "      <th>founded_on</th>\n",
       "      <th>hq_country_code</th>\n",
       "      <th>hq_state_code</th>\n",
       "      <th>hq_region</th>\n",
       "      <th>hq_city</th>\n",
       "      <th>total_funding_usd</th>\n",
       "      <th>funding_rounds</th>\n",
       "      <th>num_investors</th>\n",
       "      <th>funding_duration</th>\n",
       "      <th>first_funding_utc</th>\n",
       "      <th>last_funding_utc</th>\n",
       "      <th>successful_investment</th>\n",
       "    </tr>\n",
       "  </thead>\n",
       "  <tbody>\n",
       "    <tr>\n",
       "      <th>2</th>\n",
       "      <td>3</td>\n",
       "      <td>3371</td>\n",
       "      <td>981</td>\n",
       "      <td>94</td>\n",
       "      <td>208</td>\n",
       "      <td>568</td>\n",
       "      <td>1621</td>\n",
       "      <td>2259</td>\n",
       "      <td>14</td>\n",
       "      <td>34</td>\n",
       "      <td>579</td>\n",
       "      <td>2886</td>\n",
       "      <td>2920</td>\n",
       "      <td>0</td>\n",
       "    </tr>\n",
       "    <tr>\n",
       "      <th>4</th>\n",
       "      <td>3</td>\n",
       "      <td>3573</td>\n",
       "      <td>2271</td>\n",
       "      <td>94</td>\n",
       "      <td>103</td>\n",
       "      <td>608</td>\n",
       "      <td>1823</td>\n",
       "      <td>1879</td>\n",
       "      <td>11</td>\n",
       "      <td>34</td>\n",
       "      <td>441</td>\n",
       "      <td>3459</td>\n",
       "      <td>3371</td>\n",
       "      <td>0</td>\n",
       "    </tr>\n",
       "    <tr>\n",
       "      <th>5</th>\n",
       "      <td>2</td>\n",
       "      <td>5846</td>\n",
       "      <td>135</td>\n",
       "      <td>94</td>\n",
       "      <td>241</td>\n",
       "      <td>640</td>\n",
       "      <td>1880</td>\n",
       "      <td>9151</td>\n",
       "      <td>0</td>\n",
       "      <td>1</td>\n",
       "      <td>0</td>\n",
       "      <td>3925</td>\n",
       "      <td>3450</td>\n",
       "      <td>1</td>\n",
       "    </tr>\n",
       "    <tr>\n",
       "      <th>7</th>\n",
       "      <td>1</td>\n",
       "      <td>11756</td>\n",
       "      <td>994</td>\n",
       "      <td>94</td>\n",
       "      <td>103</td>\n",
       "      <td>608</td>\n",
       "      <td>1823</td>\n",
       "      <td>7033</td>\n",
       "      <td>0</td>\n",
       "      <td>1</td>\n",
       "      <td>0</td>\n",
       "      <td>2080</td>\n",
       "      <td>1620</td>\n",
       "      <td>0</td>\n",
       "    </tr>\n",
       "    <tr>\n",
       "      <th>11</th>\n",
       "      <td>3</td>\n",
       "      <td>4426</td>\n",
       "      <td>307</td>\n",
       "      <td>94</td>\n",
       "      <td>241</td>\n",
       "      <td>640</td>\n",
       "      <td>1051</td>\n",
       "      <td>724</td>\n",
       "      <td>11</td>\n",
       "      <td>45</td>\n",
       "      <td>918</td>\n",
       "      <td>2905</td>\n",
       "      <td>3259</td>\n",
       "      <td>0</td>\n",
       "    </tr>\n",
       "  </tbody>\n",
       "</table>\n",
       "</div>"
      ],
      "text/plain": [
       "    op_status  domain  founded_on  hq_country_code  hq_state_code  hq_region  \\\n",
       "2           3    3371         981               94            208        568   \n",
       "4           3    3573        2271               94            103        608   \n",
       "5           2    5846         135               94            241        640   \n",
       "7           1   11756         994               94            103        608   \n",
       "11          3    4426         307               94            241        640   \n",
       "\n",
       "    hq_city  total_funding_usd  funding_rounds  num_investors  \\\n",
       "2      1621               2259              14             34   \n",
       "4      1823               1879              11             34   \n",
       "5      1880               9151               0              1   \n",
       "7      1823               7033               0              1   \n",
       "11     1051                724              11             45   \n",
       "\n",
       "    funding_duration  first_funding_utc  last_funding_utc  \\\n",
       "2                579               2886              2920   \n",
       "4                441               3459              3371   \n",
       "5                  0               3925              3450   \n",
       "7                  0               2080              1620   \n",
       "11               918               2905              3259   \n",
       "\n",
       "    successful_investment  \n",
       "2                       0  \n",
       "4                       0  \n",
       "5                       1  \n",
       "7                       0  \n",
       "11                      0  "
      ]
     },
     "execution_count": 47,
     "metadata": {},
     "output_type": "execute_result"
    }
   ],
   "source": [
    "df.head()"
   ]
  },
  {
   "cell_type": "code",
   "execution_count": 48,
   "metadata": {},
   "outputs": [
    {
     "name": "stdout",
     "output_type": "stream",
     "text": [
      "<class 'pandas.core.frame.DataFrame'>\n",
      "Int64Index: 22989 entries, 2 to 40212\n",
      "Data columns (total 14 columns):\n",
      "op_status                22989 non-null int32\n",
      "domain                   22989 non-null int32\n",
      "founded_on               22989 non-null int32\n",
      "hq_country_code          22989 non-null int32\n",
      "hq_state_code            22989 non-null int32\n",
      "hq_region                22989 non-null int32\n",
      "hq_city                  22989 non-null int32\n",
      "total_funding_usd        22989 non-null int32\n",
      "funding_rounds           22989 non-null int32\n",
      "num_investors            22989 non-null int32\n",
      "funding_duration         22989 non-null int64\n",
      "first_funding_utc        22989 non-null int32\n",
      "last_funding_utc         22989 non-null int32\n",
      "successful_investment    22989 non-null int64\n",
      "dtypes: int32(12), int64(2)\n",
      "memory usage: 1.6 MB\n"
     ]
    }
   ],
   "source": [
    "df.info()"
   ]
  },
  {
   "cell_type": "markdown",
   "metadata": {},
   "source": [
    "### More Visualisation "
   ]
  },
  {
   "cell_type": "markdown",
   "metadata": {},
   "source": [
    "## 2. Histograms"
   ]
  },
  {
   "cell_type": "markdown",
   "metadata": {},
   "source": [
    "Histograms are drawn to observe whether the given dataset is uniform or not"
   ]
  },
  {
   "cell_type": "markdown",
   "metadata": {},
   "source": [
    "If we find any feature as completely uniform we will drop that column"
   ]
  },
  {
   "cell_type": "code",
   "execution_count": 49,
   "metadata": {},
   "outputs": [],
   "source": [
    "import matplotlib.pyplot as plt"
   ]
  },
  {
   "cell_type": "code",
   "execution_count": 50,
   "metadata": {},
   "outputs": [],
   "source": [
    "%matplotlib inline"
   ]
  },
  {
   "cell_type": "code",
   "execution_count": 51,
   "metadata": {},
   "outputs": [
    {
     "data": {
      "image/png": "[encoded data removed]",
      "text/plain": [
       "<Figure size 1152x1152 with 16 Axes>"
      ]
     },
     "metadata": {
      "needs_background": "light"
     },
     "output_type": "display_data"
    }
   ],
   "source": [
    "df.hist(figsize=(16,16))\n",
    "plt.show()"
   ]
  },
  {
   "cell_type": "markdown",
   "metadata": {},
   "source": [
    "## 3. HeatMap"
   ]
  },
  {
   "cell_type": "markdown",
   "metadata": {},
   "source": [
    "Heatmap is used to find existing corelation among different columns, using different colurs"
   ]
  },
  {
   "cell_type": "code",
   "execution_count": 52,
   "metadata": {},
   "outputs": [
    {
     "data": {
      "image/png": "[encoded data removed]",
      "text/plain": [
       "<Figure size 1152x1152 with 2 Axes>"
      ]
     },
     "metadata": {
      "needs_background": "light"
     },
     "output_type": "display_data"
    }
   ],
   "source": [
    "from matplotlib.colors import ListedColormap\n",
    "plt.figure(figsize=(16,16))\n",
    "corr=df.corr()\n",
    "sns.set(style='ticks',color_codes=True)\n",
    "sns.heatmap(corr,linewidths=0.3,square=True,linecolor='white',annot=True)\n",
    "plt.show()"
   ]
  },
  {
   "cell_type": "markdown",
   "metadata": {},
   "source": [
    "# Training"
   ]
  },
  {
   "cell_type": "markdown",
   "metadata": {},
   "source": [
    "## First step is to divide given training data in two parts training and testing"
   ]
  },
  {
   "cell_type": "markdown",
   "metadata": {},
   "source": [
    "For this we will use train-test-split of sklearn library"
   ]
  },
  {
   "cell_type": "code",
   "execution_count": 53,
   "metadata": {},
   "outputs": [],
   "source": [
    "from sklearn.model_selection import train_test_split"
   ]
  },
  {
   "cell_type": "code",
   "execution_count": 54,
   "metadata": {},
   "outputs": [],
   "source": [
    "X = df.drop('successful_investment',axis=1)"
   ]
  },
  {
   "cell_type": "code",
   "execution_count": 55,
   "metadata": {},
   "outputs": [
    {
     "data": {
      "text/html": [
       "<div>\n",
       "<style scoped>\n",
       "    .dataframe tbody tr th:only-of-type {\n",
       "        vertical-align: middle;\n",
       "    }\n",
       "\n",
       "    .dataframe tbody tr th {\n",
       "        vertical-align: top;\n",
       "    }\n",
       "\n",
       "    .dataframe thead th {\n",
       "        text-align: right;\n",
       "    }\n",
       "</style>\n",
       "<table border=\"1\" class=\"dataframe\">\n",
       "  <thead>\n",
       "    <tr style=\"text-align: right;\">\n",
       "      <th></th>\n",
       "      <th>op_status</th>\n",
       "      <th>domain</th>\n",
       "      <th>founded_on</th>\n",
       "      <th>hq_country_code</th>\n",
       "      <th>hq_state_code</th>\n",
       "      <th>hq_region</th>\n",
       "      <th>hq_city</th>\n",
       "      <th>total_funding_usd</th>\n",
       "      <th>funding_rounds</th>\n",
       "      <th>num_investors</th>\n",
       "      <th>funding_duration</th>\n",
       "      <th>first_funding_utc</th>\n",
       "      <th>last_funding_utc</th>\n",
       "    </tr>\n",
       "  </thead>\n",
       "  <tbody>\n",
       "    <tr>\n",
       "      <th>2</th>\n",
       "      <td>3</td>\n",
       "      <td>3371</td>\n",
       "      <td>981</td>\n",
       "      <td>94</td>\n",
       "      <td>208</td>\n",
       "      <td>568</td>\n",
       "      <td>1621</td>\n",
       "      <td>2259</td>\n",
       "      <td>14</td>\n",
       "      <td>34</td>\n",
       "      <td>579</td>\n",
       "      <td>2886</td>\n",
       "      <td>2920</td>\n",
       "    </tr>\n",
       "    <tr>\n",
       "      <th>4</th>\n",
       "      <td>3</td>\n",
       "      <td>3573</td>\n",
       "      <td>2271</td>\n",
       "      <td>94</td>\n",
       "      <td>103</td>\n",
       "      <td>608</td>\n",
       "      <td>1823</td>\n",
       "      <td>1879</td>\n",
       "      <td>11</td>\n",
       "      <td>34</td>\n",
       "      <td>441</td>\n",
       "      <td>3459</td>\n",
       "      <td>3371</td>\n",
       "    </tr>\n",
       "    <tr>\n",
       "      <th>5</th>\n",
       "      <td>2</td>\n",
       "      <td>5846</td>\n",
       "      <td>135</td>\n",
       "      <td>94</td>\n",
       "      <td>241</td>\n",
       "      <td>640</td>\n",
       "      <td>1880</td>\n",
       "      <td>9151</td>\n",
       "      <td>0</td>\n",
       "      <td>1</td>\n",
       "      <td>0</td>\n",
       "      <td>3925</td>\n",
       "      <td>3450</td>\n",
       "    </tr>\n",
       "    <tr>\n",
       "      <th>7</th>\n",
       "      <td>1</td>\n",
       "      <td>11756</td>\n",
       "      <td>994</td>\n",
       "      <td>94</td>\n",
       "      <td>103</td>\n",
       "      <td>608</td>\n",
       "      <td>1823</td>\n",
       "      <td>7033</td>\n",
       "      <td>0</td>\n",
       "      <td>1</td>\n",
       "      <td>0</td>\n",
       "      <td>2080</td>\n",
       "      <td>1620</td>\n",
       "    </tr>\n",
       "    <tr>\n",
       "      <th>11</th>\n",
       "      <td>3</td>\n",
       "      <td>4426</td>\n",
       "      <td>307</td>\n",
       "      <td>94</td>\n",
       "      <td>241</td>\n",
       "      <td>640</td>\n",
       "      <td>1051</td>\n",
       "      <td>724</td>\n",
       "      <td>11</td>\n",
       "      <td>45</td>\n",
       "      <td>918</td>\n",
       "      <td>2905</td>\n",
       "      <td>3259</td>\n",
       "    </tr>\n",
       "  </tbody>\n",
       "</table>\n",
       "</div>"
      ],
      "text/plain": [
       "    op_status  domain  founded_on  hq_country_code  hq_state_code  hq_region  \\\n",
       "2           3    3371         981               94            208        568   \n",
       "4           3    3573        2271               94            103        608   \n",
       "5           2    5846         135               94            241        640   \n",
       "7           1   11756         994               94            103        608   \n",
       "11          3    4426         307               94            241        640   \n",
       "\n",
       "    hq_city  total_funding_usd  funding_rounds  num_investors  \\\n",
       "2      1621               2259              14             34   \n",
       "4      1823               1879              11             34   \n",
       "5      1880               9151               0              1   \n",
       "7      1823               7033               0              1   \n",
       "11     1051                724              11             45   \n",
       "\n",
       "    funding_duration  first_funding_utc  last_funding_utc  \n",
       "2                579               2886              2920  \n",
       "4                441               3459              3371  \n",
       "5                  0               3925              3450  \n",
       "7                  0               2080              1620  \n",
       "11               918               2905              3259  "
      ]
     },
     "execution_count": 55,
     "metadata": {},
     "output_type": "execute_result"
    }
   ],
   "source": [
    "X.head()"
   ]
  },
  {
   "cell_type": "code",
   "execution_count": 56,
   "metadata": {},
   "outputs": [],
   "source": [
    "y = df.iloc[:,13:]"
   ]
  },
  {
   "cell_type": "code",
   "execution_count": 57,
   "metadata": {},
   "outputs": [
    {
     "data": {
      "text/html": [
       "<div>\n",
       "<style scoped>\n",
       "    .dataframe tbody tr th:only-of-type {\n",
       "        vertical-align: middle;\n",
       "    }\n",
       "\n",
       "    .dataframe tbody tr th {\n",
       "        vertical-align: top;\n",
       "    }\n",
       "\n",
       "    .dataframe thead th {\n",
       "        text-align: right;\n",
       "    }\n",
       "</style>\n",
       "<table border=\"1\" class=\"dataframe\">\n",
       "  <thead>\n",
       "    <tr style=\"text-align: right;\">\n",
       "      <th></th>\n",
       "      <th>successful_investment</th>\n",
       "    </tr>\n",
       "  </thead>\n",
       "  <tbody>\n",
       "    <tr>\n",
       "      <th>2</th>\n",
       "      <td>0</td>\n",
       "    </tr>\n",
       "    <tr>\n",
       "      <th>4</th>\n",
       "      <td>0</td>\n",
       "    </tr>\n",
       "    <tr>\n",
       "      <th>5</th>\n",
       "      <td>1</td>\n",
       "    </tr>\n",
       "    <tr>\n",
       "      <th>7</th>\n",
       "      <td>0</td>\n",
       "    </tr>\n",
       "    <tr>\n",
       "      <th>11</th>\n",
       "      <td>0</td>\n",
       "    </tr>\n",
       "  </tbody>\n",
       "</table>\n",
       "</div>"
      ],
      "text/plain": [
       "    successful_investment\n",
       "2                       0\n",
       "4                       0\n",
       "5                       1\n",
       "7                       0\n",
       "11                      0"
      ]
     },
     "execution_count": 57,
     "metadata": {},
     "output_type": "execute_result"
    }
   ],
   "source": [
    "y.head()"
   ]
  },
  {
   "cell_type": "code",
   "execution_count": 58,
   "metadata": {},
   "outputs": [],
   "source": [
    "X_train,X_test,y_train,y_test = train_test_split(X,y,test_size=0.3,random_state=0)"
   ]
  },
  {
   "cell_type": "markdown",
   "metadata": {},
   "source": [
    "### Logistic Regression"
   ]
  },
  {
   "cell_type": "code",
   "execution_count": 2,
   "metadata": {},
   "outputs": [],
   "source": [
    "from sklearn.linear_model import LogisticRegression"
   ]
  },
  {
   "cell_type": "code",
   "execution_count": 60,
   "metadata": {},
   "outputs": [],
   "source": [
    "model = LogisticRegression(random_state=0, solver='lbfgs',multi_class='multinomial')"
   ]
  },
  {
   "cell_type": "code",
   "execution_count": 61,
   "metadata": {},
   "outputs": [
    {
     "name": "stderr",
     "output_type": "stream",
     "text": [
      "C:\\Users\\ASHUTOSH CHITRANSHI\\Anaconda3\\lib\\site-packages\\sklearn\\utils\\validation.py:761: DataConversionWarning: A column-vector y was passed when a 1d array was expected. Please change the shape of y to (n_samples, ), for example using ravel().\n",
      "  y = column_or_1d(y, warn=True)\n",
      "C:\\Users\\ASHUTOSH CHITRANSHI\\Anaconda3\\lib\\site-packages\\sklearn\\linear_model\\logistic.py:758: ConvergenceWarning: lbfgs failed to converge. Increase the number of iterations.\n",
      "  \"of iterations.\", ConvergenceWarning)\n"
     ]
    },
    {
     "data": {
      "text/plain": [
       "LogisticRegression(C=1.0, class_weight=None, dual=False, fit_intercept=True,\n",
       "          intercept_scaling=1, max_iter=100, multi_class='multinomial',\n",
       "          n_jobs=None, penalty='l2', random_state=0, solver='lbfgs',\n",
       "          tol=0.0001, verbose=0, warm_start=False)"
      ]
     },
     "execution_count": 61,
     "metadata": {},
     "output_type": "execute_result"
    }
   ],
   "source": [
    "model.fit(X_train,y_train)"
   ]
  },
  {
   "cell_type": "code",
   "execution_count": 62,
   "metadata": {},
   "outputs": [],
   "source": [
    "pred = model.predict(X_test)"
   ]
  },
  {
   "cell_type": "markdown",
   "metadata": {},
   "source": [
    "#### Accuracy score for logistic Regression"
   ]
  },
  {
   "cell_type": "code",
   "execution_count": 63,
   "metadata": {},
   "outputs": [],
   "source": [
    "from sklearn import metrics"
   ]
  },
  {
   "cell_type": "code",
   "execution_count": 64,
   "metadata": {},
   "outputs": [
    {
     "data": {
      "text/plain": [
       "0.8529795563288386"
      ]
     },
     "execution_count": 64,
     "metadata": {},
     "output_type": "execute_result"
    }
   ],
   "source": [
    "metrics.accuracy_score(y_test,pred)"
   ]
  },
  {
   "cell_type": "markdown",
   "metadata": {},
   "source": [
    "### KNN"
   ]
  },
  {
   "cell_type": "code",
   "execution_count": 65,
   "metadata": {},
   "outputs": [],
   "source": [
    "from sklearn.neighbors import KNeighborsClassifier"
   ]
  },
  {
   "cell_type": "code",
   "execution_count": 66,
   "metadata": {},
   "outputs": [],
   "source": [
    "model1 = KNeighborsClassifier(n_neighbors=7,weights='distance')"
   ]
  },
  {
   "cell_type": "code",
   "execution_count": 67,
   "metadata": {},
   "outputs": [
    {
     "name": "stderr",
     "output_type": "stream",
     "text": [
      "C:\\Users\\ASHUTOSH CHITRANSHI\\Anaconda3\\lib\\site-packages\\ipykernel_launcher.py:1: DataConversionWarning: A column-vector y was passed when a 1d array was expected. Please change the shape of y to (n_samples, ), for example using ravel().\n",
      "  \"\"\"Entry point for launching an IPython kernel.\n"
     ]
    },
    {
     "data": {
      "text/plain": [
       "KNeighborsClassifier(algorithm='auto', leaf_size=30, metric='minkowski',\n",
       "           metric_params=None, n_jobs=None, n_neighbors=17, p=2,\n",
       "           weights='distance')"
      ]
     },
     "execution_count": 67,
     "metadata": {},
     "output_type": "execute_result"
    }
   ],
   "source": [
    "model1.fit(X_train,y_train)"
   ]
  },
  {
   "cell_type": "code",
   "execution_count": 68,
   "metadata": {},
   "outputs": [],
   "source": [
    "pred1 = model1.predict(X_test)"
   ]
  },
  {
   "cell_type": "markdown",
   "metadata": {},
   "source": [
    "#### Accuracy score for KNN"
   ]
  },
  {
   "cell_type": "code",
   "execution_count": 69,
   "metadata": {},
   "outputs": [
    {
     "data": {
      "text/plain": [
       "0.8460200086994345"
      ]
     },
     "execution_count": 69,
     "metadata": {},
     "output_type": "execute_result"
    }
   ],
   "source": [
    "metrics.accuracy_score(y_test,pred1)"
   ]
  },
  {
   "cell_type": "markdown",
   "metadata": {},
   "source": [
    "### Gradient Boosting Classifier"
   ]
  },
  {
   "cell_type": "code",
   "execution_count": 70,
   "metadata": {},
   "outputs": [],
   "source": [
    "from sklearn.ensemble import GradientBoostingClassifier"
   ]
  },
  {
   "cell_type": "code",
   "execution_count": 71,
   "metadata": {},
   "outputs": [],
   "source": [
    "model2 = GradientBoostingClassifier(n_estimators=80)"
   ]
  },
  {
   "cell_type": "code",
   "execution_count": 72,
   "metadata": {},
   "outputs": [
    {
     "name": "stderr",
     "output_type": "stream",
     "text": [
      "C:\\Users\\ASHUTOSH CHITRANSHI\\Anaconda3\\lib\\site-packages\\sklearn\\utils\\validation.py:761: DataConversionWarning: A column-vector y was passed when a 1d array was expected. Please change the shape of y to (n_samples, ), for example using ravel().\n",
      "  y = column_or_1d(y, warn=True)\n"
     ]
    },
    {
     "data": {
      "text/plain": [
       "GradientBoostingClassifier(criterion='friedman_mse', init=None,\n",
       "              learning_rate=0.1, loss='deviance', max_depth=3,\n",
       "              max_features=None, max_leaf_nodes=None,\n",
       "              min_impurity_decrease=0.0, min_impurity_split=None,\n",
       "              min_samples_leaf=1, min_samples_split=2,\n",
       "              min_weight_fraction_leaf=0.0, n_estimators=80,\n",
       "              n_iter_no_change=None, presort='auto', random_state=None,\n",
       "              subsample=1.0, tol=0.0001, validation_fraction=0.1,\n",
       "              verbose=0, warm_start=False)"
      ]
     },
     "execution_count": 72,
     "metadata": {},
     "output_type": "execute_result"
    }
   ],
   "source": [
    "model2.fit(X_train,y_train)"
   ]
  },
  {
   "cell_type": "code",
   "execution_count": 73,
   "metadata": {},
   "outputs": [],
   "source": [
    "pred2 = model2.predict(X_test)"
   ]
  },
  {
   "cell_type": "markdown",
   "metadata": {},
   "source": [
    "#### Accuracy for GradientBoosting Classifier"
   ]
  },
  {
   "cell_type": "code",
   "execution_count": 74,
   "metadata": {},
   "outputs": [
    {
     "data": {
      "text/plain": [
       "1.0"
      ]
     },
     "execution_count": 74,
     "metadata": {},
     "output_type": "execute_result"
    }
   ],
   "source": [
    "metrics.accuracy_score(y_test,pred2)"
   ]
  },
  {
   "cell_type": "markdown",
   "metadata": {},
   "source": [
    "## We got 1.0 accuracy score for GradientBoosting Classifier Algorithm"
   ]
  },
  {
   "cell_type": "markdown",
   "metadata": {},
   "source": [
    "### We will calculate Confusion Matrix now"
   ]
  },
  {
   "cell_type": "code",
   "execution_count": 75,
   "metadata": {},
   "outputs": [
    {
     "data": {
      "text/plain": [
       "array([[5826,    0],\n",
       "       [   0, 1071]], dtype=int64)"
      ]
     },
     "execution_count": 75,
     "metadata": {},
     "output_type": "execute_result"
    }
   ],
   "source": [
    "metrics.confusion_matrix(y_test,pred2)"
   ]
  },
  {
   "cell_type": "markdown",
   "metadata": {},
   "source": [
    "#### This is also perfect so we conclude with this"
   ]
  },
  {
   "cell_type": "markdown",
   "metadata": {},
   "source": [
    "### Load test file into dataframe"
   ]
  },
  {
   "cell_type": "code",
   "execution_count": 79,
   "metadata": {},
   "outputs": [],
   "source": [
    "test = pd.read_csv('test.csv')"
   ]
  },
  {
   "cell_type": "code",
   "execution_count": 80,
   "metadata": {},
   "outputs": [
    {
     "data": {
      "text/plain": [
       "Index(['ID', 'comp_name', 'website', 'op_status', 'domain', 'founded_on',\n",
       "       'hq_country_code', 'hq_state_code', 'hq_region', 'hq_city',\n",
       "       'total_funding_usd', 'funding_rounds', 'first_funding_date',\n",
       "       'last_funding_date', 'num_investors', 'funding_duration',\n",
       "       'first_funding_utc', 'last_funding_utc', 'Unnamed: 18'],\n",
       "      dtype='object')"
      ]
     },
     "execution_count": 80,
     "metadata": {},
     "output_type": "execute_result"
    }
   ],
   "source": [
    "test.columns"
   ]
  },
  {
   "cell_type": "markdown",
   "metadata": {},
   "source": [
    " #### Info will help us to determine the data type of different columns, total number of features, total number of rows in our dataset"
   ]
  },
  {
   "cell_type": "code",
   "execution_count": 81,
   "metadata": {},
   "outputs": [
    {
     "name": "stdout",
     "output_type": "stream",
     "text": [
      "<class 'pandas.core.frame.DataFrame'>\n",
      "RangeIndex: 4469 entries, 0 to 4468\n",
      "Data columns (total 19 columns):\n",
      "ID                    4469 non-null int64\n",
      "comp_name             4468 non-null object\n",
      "website               4185 non-null object\n",
      "op_status             4469 non-null object\n",
      "domain                4256 non-null object\n",
      "founded_on            3279 non-null object\n",
      "hq_country_code       4001 non-null object\n",
      "hq_state_code         3893 non-null object\n",
      "hq_region             3914 non-null object\n",
      "hq_city               3914 non-null object\n",
      "total_funding_usd     3619 non-null object\n",
      "funding_rounds        4469 non-null int64\n",
      "first_funding_date    4469 non-null object\n",
      "last_funding_date     4469 non-null object\n",
      "num_investors         4469 non-null object\n",
      "funding_duration      4469 non-null int64\n",
      "first_funding_utc     4469 non-null int64\n",
      "last_funding_utc      4469 non-null int64\n",
      "Unnamed: 18           1 non-null float64\n",
      "dtypes: float64(1), int64(5), object(13)\n",
      "memory usage: 663.4+ KB\n"
     ]
    }
   ],
   "source": [
    "test.info()"
   ]
  },
  {
   "cell_type": "markdown",
   "metadata": {},
   "source": [
    "#### We observe that there are few unnamed useless columns which we need to drop"
   ]
  },
  {
   "cell_type": "code",
   "execution_count": 82,
   "metadata": {},
   "outputs": [],
   "source": [
    "test=test.iloc[:,:18]"
   ]
  },
  {
   "cell_type": "code",
   "execution_count": 83,
   "metadata": {},
   "outputs": [
    {
     "data": {
      "text/html": [
       "<div>\n",
       "<style scoped>\n",
       "    .dataframe tbody tr th:only-of-type {\n",
       "        vertical-align: middle;\n",
       "    }\n",
       "\n",
       "    .dataframe tbody tr th {\n",
       "        vertical-align: top;\n",
       "    }\n",
       "\n",
       "    .dataframe thead th {\n",
       "        text-align: right;\n",
       "    }\n",
       "</style>\n",
       "<table border=\"1\" class=\"dataframe\">\n",
       "  <thead>\n",
       "    <tr style=\"text-align: right;\">\n",
       "      <th></th>\n",
       "      <th>ID</th>\n",
       "      <th>comp_name</th>\n",
       "      <th>website</th>\n",
       "      <th>op_status</th>\n",
       "      <th>domain</th>\n",
       "      <th>founded_on</th>\n",
       "      <th>hq_country_code</th>\n",
       "      <th>hq_state_code</th>\n",
       "      <th>hq_region</th>\n",
       "      <th>hq_city</th>\n",
       "      <th>total_funding_usd</th>\n",
       "      <th>funding_rounds</th>\n",
       "      <th>first_funding_date</th>\n",
       "      <th>last_funding_date</th>\n",
       "      <th>num_investors</th>\n",
       "      <th>funding_duration</th>\n",
       "      <th>first_funding_utc</th>\n",
       "      <th>last_funding_utc</th>\n",
       "    </tr>\n",
       "  </thead>\n",
       "  <tbody>\n",
       "    <tr>\n",
       "      <th>0</th>\n",
       "      <td>0</td>\n",
       "      <td>MDLIVE</td>\n",
       "      <td>http://mdlive.com</td>\n",
       "      <td>operating</td>\n",
       "      <td>Health Care</td>\n",
       "      <td>2009-01-01</td>\n",
       "      <td>USA</td>\n",
       "      <td>FL</td>\n",
       "      <td>Ft. Lauderdale</td>\n",
       "      <td>Fort Lauderdale</td>\n",
       "      <td>73600000</td>\n",
       "      <td>2</td>\n",
       "      <td>2014-01-22</td>\n",
       "      <td>2015-06-24</td>\n",
       "      <td>5</td>\n",
       "      <td>518</td>\n",
       "      <td>16092</td>\n",
       "      <td>16610</td>\n",
       "    </tr>\n",
       "    <tr>\n",
       "      <th>1</th>\n",
       "      <td>1</td>\n",
       "      <td>APX Labs</td>\n",
       "      <td>http://apx-labs.com</td>\n",
       "      <td>operating</td>\n",
       "      <td>Software</td>\n",
       "      <td>2010-01-01</td>\n",
       "      <td>USA</td>\n",
       "      <td>VA</td>\n",
       "      <td>Washington, D.C.</td>\n",
       "      <td>Herndon</td>\n",
       "      <td>28612936</td>\n",
       "      <td>3</td>\n",
       "      <td>2014-04-02</td>\n",
       "      <td>2015-11-18</td>\n",
       "      <td>7</td>\n",
       "      <td>595</td>\n",
       "      <td>16162</td>\n",
       "      <td>16757</td>\n",
       "    </tr>\n",
       "    <tr>\n",
       "      <th>2</th>\n",
       "      <td>2</td>\n",
       "      <td>9Cookies</td>\n",
       "      <td>http://www.9cookies.com/</td>\n",
       "      <td>acquired</td>\n",
       "      <td>Point of Sale|Restaurants</td>\n",
       "      <td>2012-01-01</td>\n",
       "      <td>DEU</td>\n",
       "      <td>16</td>\n",
       "      <td>Berlin</td>\n",
       "      <td>Berlin</td>\n",
       "      <td>NaN</td>\n",
       "      <td>1</td>\n",
       "      <td>2013-04-18</td>\n",
       "      <td>2013-04-18</td>\n",
       "      <td>1</td>\n",
       "      <td>0</td>\n",
       "      <td>15813</td>\n",
       "      <td>15813</td>\n",
       "    </tr>\n",
       "    <tr>\n",
       "      <th>3</th>\n",
       "      <td>3</td>\n",
       "      <td>Confluence Solar</td>\n",
       "      <td>http://www.confluencesolar.com</td>\n",
       "      <td>acquired</td>\n",
       "      <td>Clean Technology</td>\n",
       "      <td>NaN</td>\n",
       "      <td>USA</td>\n",
       "      <td>MO</td>\n",
       "      <td>St. Louis</td>\n",
       "      <td>Hazelwood</td>\n",
       "      <td>12700000</td>\n",
       "      <td>1</td>\n",
       "      <td>2008-09-24</td>\n",
       "      <td>2008-09-24</td>\n",
       "      <td>3</td>\n",
       "      <td>0</td>\n",
       "      <td>14146</td>\n",
       "      <td>14146</td>\n",
       "    </tr>\n",
       "    <tr>\n",
       "      <th>4</th>\n",
       "      <td>4</td>\n",
       "      <td>Dazo</td>\n",
       "      <td>http://dazo.in</td>\n",
       "      <td>operating</td>\n",
       "      <td>Mobile</td>\n",
       "      <td>2014-01-01</td>\n",
       "      <td>IND</td>\n",
       "      <td>19</td>\n",
       "      <td>Bangalore</td>\n",
       "      <td>Bangalore</td>\n",
       "      <td>NaN</td>\n",
       "      <td>1</td>\n",
       "      <td>2015-04-01</td>\n",
       "      <td>2015-04-01</td>\n",
       "      <td>7</td>\n",
       "      <td>0</td>\n",
       "      <td>16526</td>\n",
       "      <td>16526</td>\n",
       "    </tr>\n",
       "  </tbody>\n",
       "</table>\n",
       "</div>"
      ],
      "text/plain": [
       "   ID         comp_name                         website  op_status  \\\n",
       "0   0            MDLIVE               http://mdlive.com  operating   \n",
       "1   1          APX Labs             http://apx-labs.com  operating   \n",
       "2   2          9Cookies        http://www.9cookies.com/   acquired   \n",
       "3   3  Confluence Solar  http://www.confluencesolar.com   acquired   \n",
       "4   4              Dazo                  http://dazo.in  operating   \n",
       "\n",
       "                      domain  founded_on hq_country_code hq_state_code  \\\n",
       "0                Health Care  2009-01-01             USA            FL   \n",
       "1                   Software  2010-01-01             USA            VA   \n",
       "2  Point of Sale|Restaurants  2012-01-01             DEU            16   \n",
       "3           Clean Technology         NaN             USA            MO   \n",
       "4                     Mobile  2014-01-01             IND            19   \n",
       "\n",
       "          hq_region          hq_city total_funding_usd  funding_rounds  \\\n",
       "0    Ft. Lauderdale  Fort Lauderdale          73600000               2   \n",
       "1  Washington, D.C.          Herndon          28612936               3   \n",
       "2            Berlin           Berlin               NaN               1   \n",
       "3         St. Louis        Hazelwood          12700000               1   \n",
       "4         Bangalore        Bangalore               NaN               1   \n",
       "\n",
       "  first_funding_date last_funding_date num_investors  funding_duration  \\\n",
       "0         2014-01-22        2015-06-24             5               518   \n",
       "1         2014-04-02        2015-11-18             7               595   \n",
       "2         2013-04-18        2013-04-18             1                 0   \n",
       "3         2008-09-24        2008-09-24             3                 0   \n",
       "4         2015-04-01        2015-04-01             7                 0   \n",
       "\n",
       "   first_funding_utc  last_funding_utc  \n",
       "0              16092             16610  \n",
       "1              16162             16757  \n",
       "2              15813             15813  \n",
       "3              14146             14146  \n",
       "4              16526             16526  "
      ]
     },
     "execution_count": 83,
     "metadata": {},
     "output_type": "execute_result"
    }
   ],
   "source": [
    "test.head()"
   ]
  },
  {
   "cell_type": "markdown",
   "metadata": {},
   "source": [
    "#### describe will help us to determine about the scaling and range of our dataset"
   ]
  },
  {
   "cell_type": "code",
   "execution_count": 85,
   "metadata": {},
   "outputs": [
    {
     "data": {
      "text/html": [
       "<div>\n",
       "<style scoped>\n",
       "    .dataframe tbody tr th:only-of-type {\n",
       "        vertical-align: middle;\n",
       "    }\n",
       "\n",
       "    .dataframe tbody tr th {\n",
       "        vertical-align: top;\n",
       "    }\n",
       "\n",
       "    .dataframe thead th {\n",
       "        text-align: right;\n",
       "    }\n",
       "</style>\n",
       "<table border=\"1\" class=\"dataframe\">\n",
       "  <thead>\n",
       "    <tr style=\"text-align: right;\">\n",
       "      <th></th>\n",
       "      <th>ID</th>\n",
       "      <th>funding_rounds</th>\n",
       "      <th>funding_duration</th>\n",
       "      <th>first_funding_utc</th>\n",
       "      <th>last_funding_utc</th>\n",
       "    </tr>\n",
       "  </thead>\n",
       "  <tbody>\n",
       "    <tr>\n",
       "      <th>count</th>\n",
       "      <td>4469.000000</td>\n",
       "      <td>4469.000000</td>\n",
       "      <td>4469.000000</td>\n",
       "      <td>4469.000000</td>\n",
       "      <td>4469.000000</td>\n",
       "    </tr>\n",
       "    <tr>\n",
       "      <th>mean</th>\n",
       "      <td>2234.000000</td>\n",
       "      <td>113.813605</td>\n",
       "      <td>447.085030</td>\n",
       "      <td>14980.072947</td>\n",
       "      <td>15430.740210</td>\n",
       "    </tr>\n",
       "    <tr>\n",
       "      <th>std</th>\n",
       "      <td>1290.233506</td>\n",
       "      <td>7479.337967</td>\n",
       "      <td>777.793376</td>\n",
       "      <td>1449.442664</td>\n",
       "      <td>1327.394772</td>\n",
       "    </tr>\n",
       "    <tr>\n",
       "      <th>min</th>\n",
       "      <td>0.000000</td>\n",
       "      <td>1.000000</td>\n",
       "      <td>0.000000</td>\n",
       "      <td>0.000000</td>\n",
       "      <td>7412.000000</td>\n",
       "    </tr>\n",
       "    <tr>\n",
       "      <th>25%</th>\n",
       "      <td>1117.000000</td>\n",
       "      <td>1.000000</td>\n",
       "      <td>0.000000</td>\n",
       "      <td>14092.000000</td>\n",
       "      <td>14880.000000</td>\n",
       "    </tr>\n",
       "    <tr>\n",
       "      <th>50%</th>\n",
       "      <td>2234.000000</td>\n",
       "      <td>1.000000</td>\n",
       "      <td>0.000000</td>\n",
       "      <td>15400.000000</td>\n",
       "      <td>15918.000000</td>\n",
       "    </tr>\n",
       "    <tr>\n",
       "      <th>75%</th>\n",
       "      <td>3351.000000</td>\n",
       "      <td>2.000000</td>\n",
       "      <td>640.000000</td>\n",
       "      <td>16084.000000</td>\n",
       "      <td>16394.000000</td>\n",
       "    </tr>\n",
       "    <tr>\n",
       "      <th>max</th>\n",
       "      <td>4468.000000</td>\n",
       "      <td>500000.000000</td>\n",
       "      <td>6070.000000</td>\n",
       "      <td>16769.000000</td>\n",
       "      <td>16781.000000</td>\n",
       "    </tr>\n",
       "  </tbody>\n",
       "</table>\n",
       "</div>"
      ],
      "text/plain": [
       "                ID  funding_rounds  funding_duration  first_funding_utc  \\\n",
       "count  4469.000000     4469.000000       4469.000000        4469.000000   \n",
       "mean   2234.000000      113.813605        447.085030       14980.072947   \n",
       "std    1290.233506     7479.337967        777.793376        1449.442664   \n",
       "min       0.000000        1.000000          0.000000           0.000000   \n",
       "25%    1117.000000        1.000000          0.000000       14092.000000   \n",
       "50%    2234.000000        1.000000          0.000000       15400.000000   \n",
       "75%    3351.000000        2.000000        640.000000       16084.000000   \n",
       "max    4468.000000   500000.000000       6070.000000       16769.000000   \n",
       "\n",
       "       last_funding_utc  \n",
       "count       4469.000000  \n",
       "mean       15430.740210  \n",
       "std         1327.394772  \n",
       "min         7412.000000  \n",
       "25%        14880.000000  \n",
       "50%        15918.000000  \n",
       "75%        16394.000000  \n",
       "max        16781.000000  "
      ]
     },
     "execution_count": 85,
     "metadata": {},
     "output_type": "execute_result"
    }
   ],
   "source": [
    "test.describe()"
   ]
  },
  {
   "cell_type": "markdown",
   "metadata": {},
   "source": [
    "### Count of null values"
   ]
  },
  {
   "cell_type": "code",
   "execution_count": 86,
   "metadata": {},
   "outputs": [
    {
     "data": {
      "text/plain": [
       "ID                       0\n",
       "comp_name                1\n",
       "website                284\n",
       "op_status                0\n",
       "domain                 213\n",
       "founded_on            1190\n",
       "hq_country_code        468\n",
       "hq_state_code          576\n",
       "hq_region              555\n",
       "hq_city                555\n",
       "total_funding_usd      850\n",
       "funding_rounds           0\n",
       "first_funding_date       0\n",
       "last_funding_date        0\n",
       "num_investors            0\n",
       "funding_duration         0\n",
       "first_funding_utc        0\n",
       "last_funding_utc         0\n",
       "dtype: int64"
      ]
     },
     "execution_count": 86,
     "metadata": {},
     "output_type": "execute_result"
    }
   ],
   "source": [
    "test.isnull().sum()"
   ]
  },
  {
   "cell_type": "markdown",
   "metadata": {},
   "source": [
    "### Dropping columns we drop in training file"
   ]
  },
  {
   "cell_type": "code",
   "execution_count": 87,
   "metadata": {},
   "outputs": [],
   "source": [
    "test=test.drop('ID',axis=1)"
   ]
  },
  {
   "cell_type": "code",
   "execution_count": 88,
   "metadata": {},
   "outputs": [],
   "source": [
    "test=test.drop('comp_name',axis=1)"
   ]
  },
  {
   "cell_type": "code",
   "execution_count": 89,
   "metadata": {},
   "outputs": [],
   "source": [
    "test=test.drop('website',axis=1)"
   ]
  },
  {
   "cell_type": "code",
   "execution_count": 90,
   "metadata": {},
   "outputs": [],
   "source": [
    "test=test.drop('first_funding_date',axis=1)"
   ]
  },
  {
   "cell_type": "code",
   "execution_count": 91,
   "metadata": {},
   "outputs": [],
   "source": [
    "test=test.drop('last_funding_date',axis=1)"
   ]
  },
  {
   "cell_type": "code",
   "execution_count": 92,
   "metadata": {},
   "outputs": [
    {
     "data": {
      "text/html": [
       "<div>\n",
       "<style scoped>\n",
       "    .dataframe tbody tr th:only-of-type {\n",
       "        vertical-align: middle;\n",
       "    }\n",
       "\n",
       "    .dataframe tbody tr th {\n",
       "        vertical-align: top;\n",
       "    }\n",
       "\n",
       "    .dataframe thead th {\n",
       "        text-align: right;\n",
       "    }\n",
       "</style>\n",
       "<table border=\"1\" class=\"dataframe\">\n",
       "  <thead>\n",
       "    <tr style=\"text-align: right;\">\n",
       "      <th></th>\n",
       "      <th>op_status</th>\n",
       "      <th>domain</th>\n",
       "      <th>founded_on</th>\n",
       "      <th>hq_country_code</th>\n",
       "      <th>hq_state_code</th>\n",
       "      <th>hq_region</th>\n",
       "      <th>hq_city</th>\n",
       "      <th>total_funding_usd</th>\n",
       "      <th>funding_rounds</th>\n",
       "      <th>num_investors</th>\n",
       "      <th>funding_duration</th>\n",
       "      <th>first_funding_utc</th>\n",
       "      <th>last_funding_utc</th>\n",
       "    </tr>\n",
       "  </thead>\n",
       "  <tbody>\n",
       "    <tr>\n",
       "      <th>0</th>\n",
       "      <td>operating</td>\n",
       "      <td>Health Care</td>\n",
       "      <td>2009-01-01</td>\n",
       "      <td>USA</td>\n",
       "      <td>FL</td>\n",
       "      <td>Ft. Lauderdale</td>\n",
       "      <td>Fort Lauderdale</td>\n",
       "      <td>73600000</td>\n",
       "      <td>2</td>\n",
       "      <td>5</td>\n",
       "      <td>518</td>\n",
       "      <td>16092</td>\n",
       "      <td>16610</td>\n",
       "    </tr>\n",
       "    <tr>\n",
       "      <th>1</th>\n",
       "      <td>operating</td>\n",
       "      <td>Software</td>\n",
       "      <td>2010-01-01</td>\n",
       "      <td>USA</td>\n",
       "      <td>VA</td>\n",
       "      <td>Washington, D.C.</td>\n",
       "      <td>Herndon</td>\n",
       "      <td>28612936</td>\n",
       "      <td>3</td>\n",
       "      <td>7</td>\n",
       "      <td>595</td>\n",
       "      <td>16162</td>\n",
       "      <td>16757</td>\n",
       "    </tr>\n",
       "    <tr>\n",
       "      <th>2</th>\n",
       "      <td>acquired</td>\n",
       "      <td>Point of Sale|Restaurants</td>\n",
       "      <td>2012-01-01</td>\n",
       "      <td>DEU</td>\n",
       "      <td>16</td>\n",
       "      <td>Berlin</td>\n",
       "      <td>Berlin</td>\n",
       "      <td>NaN</td>\n",
       "      <td>1</td>\n",
       "      <td>1</td>\n",
       "      <td>0</td>\n",
       "      <td>15813</td>\n",
       "      <td>15813</td>\n",
       "    </tr>\n",
       "    <tr>\n",
       "      <th>3</th>\n",
       "      <td>acquired</td>\n",
       "      <td>Clean Technology</td>\n",
       "      <td>NaN</td>\n",
       "      <td>USA</td>\n",
       "      <td>MO</td>\n",
       "      <td>St. Louis</td>\n",
       "      <td>Hazelwood</td>\n",
       "      <td>12700000</td>\n",
       "      <td>1</td>\n",
       "      <td>3</td>\n",
       "      <td>0</td>\n",
       "      <td>14146</td>\n",
       "      <td>14146</td>\n",
       "    </tr>\n",
       "    <tr>\n",
       "      <th>4</th>\n",
       "      <td>operating</td>\n",
       "      <td>Mobile</td>\n",
       "      <td>2014-01-01</td>\n",
       "      <td>IND</td>\n",
       "      <td>19</td>\n",
       "      <td>Bangalore</td>\n",
       "      <td>Bangalore</td>\n",
       "      <td>NaN</td>\n",
       "      <td>1</td>\n",
       "      <td>7</td>\n",
       "      <td>0</td>\n",
       "      <td>16526</td>\n",
       "      <td>16526</td>\n",
       "    </tr>\n",
       "  </tbody>\n",
       "</table>\n",
       "</div>"
      ],
      "text/plain": [
       "   op_status                     domain  founded_on hq_country_code  \\\n",
       "0  operating                Health Care  2009-01-01             USA   \n",
       "1  operating                   Software  2010-01-01             USA   \n",
       "2   acquired  Point of Sale|Restaurants  2012-01-01             DEU   \n",
       "3   acquired           Clean Technology         NaN             USA   \n",
       "4  operating                     Mobile  2014-01-01             IND   \n",
       "\n",
       "  hq_state_code         hq_region          hq_city total_funding_usd  \\\n",
       "0            FL    Ft. Lauderdale  Fort Lauderdale          73600000   \n",
       "1            VA  Washington, D.C.          Herndon          28612936   \n",
       "2            16            Berlin           Berlin               NaN   \n",
       "3            MO         St. Louis        Hazelwood          12700000   \n",
       "4            19         Bangalore        Bangalore               NaN   \n",
       "\n",
       "   funding_rounds num_investors  funding_duration  first_funding_utc  \\\n",
       "0               2             5               518              16092   \n",
       "1               3             7               595              16162   \n",
       "2               1             1                 0              15813   \n",
       "3               1             3                 0              14146   \n",
       "4               1             7                 0              16526   \n",
       "\n",
       "   last_funding_utc  \n",
       "0             16610  \n",
       "1             16757  \n",
       "2             15813  \n",
       "3             14146  \n",
       "4             16526  "
      ]
     },
     "execution_count": 92,
     "metadata": {},
     "output_type": "execute_result"
    }
   ],
   "source": [
    "test.head()"
   ]
  },
  {
   "cell_type": "code",
   "execution_count": 94,
   "metadata": {},
   "outputs": [
    {
     "name": "stdout",
     "output_type": "stream",
     "text": [
      "<class 'pandas.core.frame.DataFrame'>\n",
      "RangeIndex: 4469 entries, 0 to 4468\n",
      "Data columns (total 13 columns):\n",
      "op_status            4469 non-null object\n",
      "domain               4256 non-null object\n",
      "founded_on           3279 non-null object\n",
      "hq_country_code      4001 non-null object\n",
      "hq_state_code        3893 non-null object\n",
      "hq_region            3914 non-null object\n",
      "hq_city              3914 non-null object\n",
      "total_funding_usd    3619 non-null object\n",
      "funding_rounds       4469 non-null int64\n",
      "num_investors        4469 non-null object\n",
      "funding_duration     4469 non-null int64\n",
      "first_funding_utc    4469 non-null int64\n",
      "last_funding_utc     4469 non-null int64\n",
      "dtypes: int64(4), object(9)\n",
      "memory usage: 454.0+ KB\n"
     ]
    }
   ],
   "source": [
    "test.info()"
   ]
  },
  {
   "cell_type": "markdown",
   "metadata": {},
   "source": [
    "### Before we go for testing we need to look our columns having null values and dtype = objects"
   ]
  },
  {
   "cell_type": "code",
   "execution_count": 95,
   "metadata": {},
   "outputs": [],
   "source": [
    "label_encoder = LabelEncoder()"
   ]
  },
  {
   "cell_type": "code",
   "execution_count": 97,
   "metadata": {},
   "outputs": [],
   "source": [
    "test['op_status']= label_encoder.fit_transform(test['op_status'])"
   ]
  },
  {
   "cell_type": "code",
   "execution_count": 98,
   "metadata": {},
   "outputs": [
    {
     "data": {
      "text/plain": [
       "op_status               0\n",
       "domain                213\n",
       "founded_on           1190\n",
       "hq_country_code       468\n",
       "hq_state_code         576\n",
       "hq_region             555\n",
       "hq_city               555\n",
       "total_funding_usd     850\n",
       "funding_rounds          0\n",
       "num_investors           0\n",
       "funding_duration        0\n",
       "first_funding_utc       0\n",
       "last_funding_utc        0\n",
       "dtype: int64"
      ]
     },
     "execution_count": 98,
     "metadata": {},
     "output_type": "execute_result"
    }
   ],
   "source": [
    "test.isnull().sum()"
   ]
  },
  {
   "cell_type": "markdown",
   "metadata": {},
   "source": [
    "#### Using DataImputer for filling null values in columns"
   ]
  },
  {
   "cell_type": "code",
   "execution_count": 102,
   "metadata": {},
   "outputs": [],
   "source": [
    "import pandas as pd\n",
    "import numpy as np\n",
    "from sklearn.base import TransformerMixin\n",
    "class DataImputer(TransformerMixin):\n",
    "    def fit(self, X, y=None):\n",
    "        self.fill = pd.Series([X[c].value_counts().index[0]\n",
    "            if X[c].dtype == np.dtype('O') else X[c].mean() for c in X],\n",
    "            index=X.columns)\n",
    "        return self\n",
    "    def transform(self, X, y=None):\n",
    "        return X.fillna(self.fill)"
   ]
  },
  {
   "cell_type": "code",
   "execution_count": 107,
   "metadata": {},
   "outputs": [],
   "source": [
    "test = DataImputer().fit_transform(test)"
   ]
  },
  {
   "cell_type": "code",
   "execution_count": 108,
   "metadata": {},
   "outputs": [
    {
     "data": {
      "text/html": [
       "<div>\n",
       "<style scoped>\n",
       "    .dataframe tbody tr th:only-of-type {\n",
       "        vertical-align: middle;\n",
       "    }\n",
       "\n",
       "    .dataframe tbody tr th {\n",
       "        vertical-align: top;\n",
       "    }\n",
       "\n",
       "    .dataframe thead th {\n",
       "        text-align: right;\n",
       "    }\n",
       "</style>\n",
       "<table border=\"1\" class=\"dataframe\">\n",
       "  <thead>\n",
       "    <tr style=\"text-align: right;\">\n",
       "      <th></th>\n",
       "      <th>op_status</th>\n",
       "      <th>domain</th>\n",
       "      <th>founded_on</th>\n",
       "      <th>hq_country_code</th>\n",
       "      <th>hq_state_code</th>\n",
       "      <th>hq_region</th>\n",
       "      <th>hq_city</th>\n",
       "      <th>total_funding_usd</th>\n",
       "      <th>funding_rounds</th>\n",
       "      <th>num_investors</th>\n",
       "      <th>funding_duration</th>\n",
       "      <th>first_funding_utc</th>\n",
       "      <th>last_funding_utc</th>\n",
       "    </tr>\n",
       "  </thead>\n",
       "  <tbody>\n",
       "    <tr>\n",
       "      <th>0</th>\n",
       "      <td>4</td>\n",
       "      <td>Health Care</td>\n",
       "      <td>2009-01-01</td>\n",
       "      <td>USA</td>\n",
       "      <td>FL</td>\n",
       "      <td>Ft. Lauderdale</td>\n",
       "      <td>Fort Lauderdale</td>\n",
       "      <td>73600000</td>\n",
       "      <td>2</td>\n",
       "      <td>5</td>\n",
       "      <td>518</td>\n",
       "      <td>16092</td>\n",
       "      <td>16610</td>\n",
       "    </tr>\n",
       "    <tr>\n",
       "      <th>1</th>\n",
       "      <td>4</td>\n",
       "      <td>Software</td>\n",
       "      <td>2010-01-01</td>\n",
       "      <td>USA</td>\n",
       "      <td>VA</td>\n",
       "      <td>Washington, D.C.</td>\n",
       "      <td>Herndon</td>\n",
       "      <td>28612936</td>\n",
       "      <td>3</td>\n",
       "      <td>7</td>\n",
       "      <td>595</td>\n",
       "      <td>16162</td>\n",
       "      <td>16757</td>\n",
       "    </tr>\n",
       "    <tr>\n",
       "      <th>2</th>\n",
       "      <td>0</td>\n",
       "      <td>Point of Sale|Restaurants</td>\n",
       "      <td>2012-01-01</td>\n",
       "      <td>DEU</td>\n",
       "      <td>16</td>\n",
       "      <td>Berlin</td>\n",
       "      <td>Berlin</td>\n",
       "      <td>2000000</td>\n",
       "      <td>1</td>\n",
       "      <td>1</td>\n",
       "      <td>0</td>\n",
       "      <td>15813</td>\n",
       "      <td>15813</td>\n",
       "    </tr>\n",
       "    <tr>\n",
       "      <th>3</th>\n",
       "      <td>0</td>\n",
       "      <td>Clean Technology</td>\n",
       "      <td>2012-01-01</td>\n",
       "      <td>USA</td>\n",
       "      <td>MO</td>\n",
       "      <td>St. Louis</td>\n",
       "      <td>Hazelwood</td>\n",
       "      <td>12700000</td>\n",
       "      <td>1</td>\n",
       "      <td>3</td>\n",
       "      <td>0</td>\n",
       "      <td>14146</td>\n",
       "      <td>14146</td>\n",
       "    </tr>\n",
       "    <tr>\n",
       "      <th>4</th>\n",
       "      <td>4</td>\n",
       "      <td>Mobile</td>\n",
       "      <td>2014-01-01</td>\n",
       "      <td>IND</td>\n",
       "      <td>19</td>\n",
       "      <td>Bangalore</td>\n",
       "      <td>Bangalore</td>\n",
       "      <td>2000000</td>\n",
       "      <td>1</td>\n",
       "      <td>7</td>\n",
       "      <td>0</td>\n",
       "      <td>16526</td>\n",
       "      <td>16526</td>\n",
       "    </tr>\n",
       "  </tbody>\n",
       "</table>\n",
       "</div>"
      ],
      "text/plain": [
       "   op_status                     domain  founded_on hq_country_code  \\\n",
       "0          4                Health Care  2009-01-01             USA   \n",
       "1          4                   Software  2010-01-01             USA   \n",
       "2          0  Point of Sale|Restaurants  2012-01-01             DEU   \n",
       "3          0           Clean Technology  2012-01-01             USA   \n",
       "4          4                     Mobile  2014-01-01             IND   \n",
       "\n",
       "  hq_state_code         hq_region          hq_city total_funding_usd  \\\n",
       "0            FL    Ft. Lauderdale  Fort Lauderdale          73600000   \n",
       "1            VA  Washington, D.C.          Herndon          28612936   \n",
       "2            16            Berlin           Berlin           2000000   \n",
       "3            MO         St. Louis        Hazelwood          12700000   \n",
       "4            19         Bangalore        Bangalore           2000000   \n",
       "\n",
       "   funding_rounds num_investors  funding_duration  first_funding_utc  \\\n",
       "0               2             5               518              16092   \n",
       "1               3             7               595              16162   \n",
       "2               1             1                 0              15813   \n",
       "3               1             3                 0              14146   \n",
       "4               1             7                 0              16526   \n",
       "\n",
       "   last_funding_utc  \n",
       "0             16610  \n",
       "1             16757  \n",
       "2             15813  \n",
       "3             14146  \n",
       "4             16526  "
      ]
     },
     "execution_count": 108,
     "metadata": {},
     "output_type": "execute_result"
    }
   ],
   "source": [
    "test.head()"
   ]
  },
  {
   "cell_type": "markdown",
   "metadata": {},
   "source": [
    "#### Using label for filling null values"
   ]
  },
  {
   "cell_type": "code",
   "execution_count": 109,
   "metadata": {},
   "outputs": [],
   "source": [
    "for column in test.columns:\n",
    "    if test[column].dtype == type(object):\n",
    "        le = LabelEncoder()\n",
    "        test[column] = le.fit_transform(test[column].astype(str))"
   ]
  },
  {
   "cell_type": "code",
   "execution_count": 110,
   "metadata": {},
   "outputs": [
    {
     "data": {
      "text/html": [
       "<div>\n",
       "<style scoped>\n",
       "    .dataframe tbody tr th:only-of-type {\n",
       "        vertical-align: middle;\n",
       "    }\n",
       "\n",
       "    .dataframe tbody tr th {\n",
       "        vertical-align: top;\n",
       "    }\n",
       "\n",
       "    .dataframe thead th {\n",
       "        text-align: right;\n",
       "    }\n",
       "</style>\n",
       "<table border=\"1\" class=\"dataframe\">\n",
       "  <thead>\n",
       "    <tr style=\"text-align: right;\">\n",
       "      <th></th>\n",
       "      <th>op_status</th>\n",
       "      <th>domain</th>\n",
       "      <th>founded_on</th>\n",
       "      <th>hq_country_code</th>\n",
       "      <th>hq_state_code</th>\n",
       "      <th>hq_region</th>\n",
       "      <th>hq_city</th>\n",
       "      <th>total_funding_usd</th>\n",
       "      <th>funding_rounds</th>\n",
       "      <th>num_investors</th>\n",
       "      <th>funding_duration</th>\n",
       "      <th>first_funding_utc</th>\n",
       "      <th>last_funding_utc</th>\n",
       "    </tr>\n",
       "  </thead>\n",
       "  <tbody>\n",
       "    <tr>\n",
       "      <th>0</th>\n",
       "      <td>4</td>\n",
       "      <td>1817</td>\n",
       "      <td>234</td>\n",
       "      <td>74</td>\n",
       "      <td>101</td>\n",
       "      <td>147</td>\n",
       "      <td>309</td>\n",
       "      <td>1661</td>\n",
       "      <td>2</td>\n",
       "      <td>37</td>\n",
       "      <td>518</td>\n",
       "      <td>16092</td>\n",
       "      <td>16610</td>\n",
       "    </tr>\n",
       "    <tr>\n",
       "      <th>1</th>\n",
       "      <td>4</td>\n",
       "      <td>2278</td>\n",
       "      <td>286</td>\n",
       "      <td>74</td>\n",
       "      <td>180</td>\n",
       "      <td>439</td>\n",
       "      <td>389</td>\n",
       "      <td>863</td>\n",
       "      <td>3</td>\n",
       "      <td>41</td>\n",
       "      <td>595</td>\n",
       "      <td>16162</td>\n",
       "      <td>16757</td>\n",
       "    </tr>\n",
       "    <tr>\n",
       "      <th>2</th>\n",
       "      <td>0</td>\n",
       "      <td>2190</td>\n",
       "      <td>404</td>\n",
       "      <td>18</td>\n",
       "      <td>7</td>\n",
       "      <td>44</td>\n",
       "      <td>84</td>\n",
       "      <td>560</td>\n",
       "      <td>1</td>\n",
       "      <td>0</td>\n",
       "      <td>0</td>\n",
       "      <td>15813</td>\n",
       "      <td>15813</td>\n",
       "    </tr>\n",
       "    <tr>\n",
       "      <th>3</th>\n",
       "      <td>0</td>\n",
       "      <td>832</td>\n",
       "      <td>404</td>\n",
       "      <td>74</td>\n",
       "      <td>141</td>\n",
       "      <td>387</td>\n",
       "      <td>383</td>\n",
       "      <td>194</td>\n",
       "      <td>1</td>\n",
       "      <td>23</td>\n",
       "      <td>0</td>\n",
       "      <td>14146</td>\n",
       "      <td>14146</td>\n",
       "    </tr>\n",
       "    <tr>\n",
       "      <th>4</th>\n",
       "      <td>4</td>\n",
       "      <td>2093</td>\n",
       "      <td>606</td>\n",
       "      <td>35</td>\n",
       "      <td>10</td>\n",
       "      <td>31</td>\n",
       "      <td>58</td>\n",
       "      <td>560</td>\n",
       "      <td>1</td>\n",
       "      <td>41</td>\n",
       "      <td>0</td>\n",
       "      <td>16526</td>\n",
       "      <td>16526</td>\n",
       "    </tr>\n",
       "  </tbody>\n",
       "</table>\n",
       "</div>"
      ],
      "text/plain": [
       "   op_status  domain  founded_on  hq_country_code  hq_state_code  hq_region  \\\n",
       "0          4    1817         234               74            101        147   \n",
       "1          4    2278         286               74            180        439   \n",
       "2          0    2190         404               18              7         44   \n",
       "3          0     832         404               74            141        387   \n",
       "4          4    2093         606               35             10         31   \n",
       "\n",
       "   hq_city  total_funding_usd  funding_rounds  num_investors  \\\n",
       "0      309               1661               2             37   \n",
       "1      389                863               3             41   \n",
       "2       84                560               1              0   \n",
       "3      383                194               1             23   \n",
       "4       58                560               1             41   \n",
       "\n",
       "   funding_duration  first_funding_utc  last_funding_utc  \n",
       "0               518              16092             16610  \n",
       "1               595              16162             16757  \n",
       "2                 0              15813             15813  \n",
       "3                 0              14146             14146  \n",
       "4                 0              16526             16526  "
      ]
     },
     "execution_count": 110,
     "metadata": {},
     "output_type": "execute_result"
    }
   ],
   "source": [
    "test.head()"
   ]
  },
  {
   "cell_type": "markdown",
   "metadata": {},
   "source": [
    "## Test Prediction"
   ]
  },
  {
   "cell_type": "code",
   "execution_count": 111,
   "metadata": {},
   "outputs": [],
   "source": [
    "test_pred = model2.predict(test)"
   ]
  },
  {
   "cell_type": "code",
   "execution_count": 112,
   "metadata": {},
   "outputs": [
    {
     "data": {
      "text/plain": [
       "array([0, 0, 1, ..., 0, 0, 0], dtype=int64)"
      ]
     },
     "execution_count": 112,
     "metadata": {},
     "output_type": "execute_result"
    }
   ],
   "source": [
    "test_pred"
   ]
  },
  {
   "cell_type": "markdown",
   "metadata": {},
   "source": [
    "Check size to make sure everything is correct"
   ]
  },
  {
   "cell_type": "code",
   "execution_count": 113,
   "metadata": {},
   "outputs": [],
   "source": [
    "yy=[]"
   ]
  },
  {
   "cell_type": "code",
   "execution_count": 114,
   "metadata": {},
   "outputs": [],
   "source": [
    "for i in range(4469):\n",
    "    yy.append(i)"
   ]
  },
  {
   "cell_type": "code",
   "execution_count": 115,
   "metadata": {},
   "outputs": [],
   "source": [
    "predi=pd.DataFrame(test_pred)\n",
    "predi.rename(columns={0:'successful_investment'},inplace=True)\n",
    "predi['ID']=yy\n",
    "predi = predi[['ID','successful_investment']]"
   ]
  },
  {
   "cell_type": "code",
   "execution_count": 116,
   "metadata": {},
   "outputs": [],
   "source": [
    "predi.to_csv('result.csv',index=False)"
   ]
  },
  {
   "cell_type": "markdown",
   "metadata": {},
   "source": [
    "Confirm whether file is prepared correctly"
   ]
  },
  {
   "cell_type": "code",
   "execution_count": 117,
   "metadata": {},
   "outputs": [
    {
     "data": {
      "text/html": [
       "<div>\n",
       "<style scoped>\n",
       "    .dataframe tbody tr th:only-of-type {\n",
       "        vertical-align: middle;\n",
       "    }\n",
       "\n",
       "    .dataframe tbody tr th {\n",
       "        vertical-align: top;\n",
       "    }\n",
       "\n",
       "    .dataframe thead th {\n",
       "        text-align: right;\n",
       "    }\n",
       "</style>\n",
       "<table border=\"1\" class=\"dataframe\">\n",
       "  <thead>\n",
       "    <tr style=\"text-align: right;\">\n",
       "      <th></th>\n",
       "      <th>ID</th>\n",
       "      <th>successful_investment</th>\n",
       "    </tr>\n",
       "  </thead>\n",
       "  <tbody>\n",
       "    <tr>\n",
       "      <th>0</th>\n",
       "      <td>0</td>\n",
       "      <td>0</td>\n",
       "    </tr>\n",
       "    <tr>\n",
       "      <th>1</th>\n",
       "      <td>1</td>\n",
       "      <td>0</td>\n",
       "    </tr>\n",
       "    <tr>\n",
       "      <th>2</th>\n",
       "      <td>2</td>\n",
       "      <td>1</td>\n",
       "    </tr>\n",
       "    <tr>\n",
       "      <th>3</th>\n",
       "      <td>3</td>\n",
       "      <td>1</td>\n",
       "    </tr>\n",
       "    <tr>\n",
       "      <th>4</th>\n",
       "      <td>4</td>\n",
       "      <td>0</td>\n",
       "    </tr>\n",
       "  </tbody>\n",
       "</table>\n",
       "</div>"
      ],
      "text/plain": [
       "   ID  successful_investment\n",
       "0   0                      0\n",
       "1   1                      0\n",
       "2   2                      1\n",
       "3   3                      1\n",
       "4   4                      0"
      ]
     },
     "execution_count": 117,
     "metadata": {},
     "output_type": "execute_result"
    }
   ],
   "source": [
    "predi.head()"
   ]
  },
  {
   "cell_type": "code",
   "execution_count": null,
   "metadata": {},
   "outputs": [],
   "source": []
  }
 ],
 "metadata": {
  "kernelspec": {
   "display_name": "Python 3",
   "language": "python",
   "name": "python3"
  },
  "language_info": {
   "codemirror_mode": {
    "name": "ipython",
    "version": 3
   },
   "file_extension": ".py",
   "mimetype": "text/x-python",
   "name": "python",
   "nbconvert_exporter": "python",
   "pygments_lexer": "ipython3",
   "version": "3.7.3"
  }
 },
 "nbformat": 4,
 "nbformat_minor": 2
}
